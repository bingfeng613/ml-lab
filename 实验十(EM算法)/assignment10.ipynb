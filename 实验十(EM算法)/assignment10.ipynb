{
 "cells": [
  {
   "cell_type": "markdown",
   "id": "9ea0ed22",
   "metadata": {},
   "source": [
    "**<font color = black size=6>实验十:EM算法</font>**"
   ]
  },
  {
   "cell_type": "code",
   "execution_count": 562,
   "id": "db23a433",
   "metadata": {},
   "outputs": [],
   "source": [
    "from collections import Counter\n",
    "import numpy as np\n",
    "import pandas as pd\n",
    "import matplotlib.pyplot as plt\n",
    "import math\n",
    "import random"
   ]
  },
  {
   "cell_type": "markdown",
   "id": "5a94b746",
   "metadata": {},
   "source": [
    "**<font color = blue size=4>第一部分:实验任务</font>**"
   ]
  },
  {
   "cell_type": "markdown",
   "id": "59e45773",
   "metadata": {},
   "source": [
    "<span style=\"color:purple\">=======  \n",
    "现在给定了一个班级中所有同学的身高数据文件(height.csv)，但不知道各个学生的性别。假设男生身高服从一高斯分布$N_1(\\mu_1,\\sigma_1^2)$，女生身高服从另一高斯分布$N_2(\\mu_2,\\sigma_2^2)$，我们可以写出一个混合高斯模型:$x\\sim\\alpha_1 N_1(\\mu_1,\\sigma_1^2)+\\alpha_2 N_2(\\mu_2,\\sigma_2^2)$。请使用EM算法完成对该混合高斯分布的估计(即求出对参数$\\alpha_1,\\alpha_2,\\mu_1,\\sigma_1,\\mu_2,\\sigma_2$的估计值)。我们简化地记$\\theta_1=(\\alpha_1,\\mu_1,\\sigma_1)$, $\\theta_2=(\\alpha_2,\\mu_2,\\sigma_2)$</span>"
   ]
  },
  {
   "cell_type": "markdown",
   "id": "3eaa9224",
   "metadata": {},
   "source": [
    "<span style=\"color:purple\">该数据集(height.csv)特征信息只包括了1个特征，即学生的身高。我们沿用理论课PPT的设置，将隐变量$z_i$按照男生$z_i=1$、女生$z_i=2$的形式进行描述</span>"
   ]
  },
  {
   "cell_type": "markdown",
   "id": "71a273da",
   "metadata": {},
   "source": [
    "**<font color = black size=4>E步（Expectation Step）</font>**"
   ]
  },
  {
   "cell_type": "markdown",
   "id": "a55b8d07",
   "metadata": {},
   "source": [
    "<span style=\"color:purple\">1) 将数据集'height.csv'载入并转换为你需要的格式</span>"
   ]
  },
  {
   "cell_type": "code",
   "execution_count": 563,
   "id": "8ba9174f",
   "metadata": {},
   "outputs": [],
   "source": [
    "D = pd.read_csv('height.csv')\n",
    "height_dataset = np.array(D) # 将数据集转换为numpy数组的格式"
   ]
  },
  {
   "cell_type": "markdown",
   "id": "b8adad0e",
   "metadata": {},
   "source": [
    "<span style=\"color:purple\">2)初始化  \n",
    "初始化$t=0$时的参数($\\alpha_1(0)$, $\\alpha_2(0)$, $\\mu_1(0)$, $\\mu_2(0)$, $\\sigma_1(0)$, $\\sigma_2(0)$). </span>"
   ]
  },
  {
   "cell_type": "code",
   "execution_count": 564,
   "id": "26ec83cd",
   "metadata": {},
   "outputs": [
    {
     "name": "stdout",
     "output_type": "stream",
     "text": [
      "[0.5, 0.5, 178, 160, 5, 5]\n"
     ]
    }
   ],
   "source": [
    "# parameter=[alpha1,alpha2,mu1,mu2,sigma1,sigma2]\n",
    "\n",
    "# 初始化EM算法的参数\n",
    "alpha1 = 0.5  # 混合系数_男生\n",
    "alpha2 = 0.5  # 混合系数_女生\n",
    "mu1 = 178  # 男生身高均值\n",
    "mu2 = 160  # 女生身高均值\n",
    "sigma1 = 5  # 男生身高标准差\n",
    "sigma2 = 5  # 女生身高标准差\n",
    "\n",
    "parameter = [alpha1, alpha2, mu1, mu2, sigma1, sigma2]\n",
    "print(parameter)"
   ]
  },
  {
   "cell_type": "markdown",
   "id": "b98a1bec",
   "metadata": {},
   "source": [
    "<span style=\"color:purple\">3)编写函数P(x,parameter,z)  \n",
    "给定参数$(\\alpha_1(t),\\alpha_2(t),\\mu_1(t),\\mu_2(t),\\sigma_1(t),\\sigma_2(t))$以及数据集D,计算每个样本$x_i$的$P(x_i,z_i|\\theta)$.</span>"
   ]
  },
  {
   "cell_type": "markdown",
   "id": "1c4027ec",
   "metadata": {},
   "source": [
    "<span style=\"color:purple\">.  \n",
    "当$z_i=1$时,$$P(x_i,z_i|\\theta)=\\alpha_1(t)f_1(x_i|\\theta_1(t))$$\n",
    "    当$z_i=2$时,$$P(x_i,z_i|\\theta)=\\alpha_2(t)f_2(x_i|\\theta_2(t))$$</span>"
   ]
  },
  {
   "cell_type": "markdown",
   "id": "10fcfa00",
   "metadata": {},
   "source": [
    "<span style=\"color:purple\"> .   \n",
    "其中$f_1(x_i|\\theta_1(t))$为样本$x_i$在模型$N_1$中的概率密度,公式如下:\n",
    "    $$f(x_i|\\theta_1(t))=\\frac{1}{{\\sqrt{2\\pi}\\sigma_1}} e^{-\\frac{(x_i-\\mu_1)^2}{2\\sigma_1^2}}$$</span>"
   ]
  },
  {
   "cell_type": "code",
   "execution_count": 565,
   "id": "21acd6a1",
   "metadata": {},
   "outputs": [],
   "source": [
    "# parameter=[alpha1,alpha2,mu1,mu2,sigma1,sigma2]\n",
    "\n",
    "# 高斯分布的概率密度函数\n",
    "def gaussian_pdf(x, mu, sigma):\n",
    "    return (1 / (np.sqrt(2 * np.pi) * sigma)) * np.exp(-((x - mu) ** 2) / (2 * sigma ** 2))\n",
    "\n",
    "def P(x, parameter, z):\n",
    "    alpha1, alpha2, mu1, mu2, sigma1, sigma2 = parameter\n",
    "\n",
    "    # 根据z的值计算相应的概率\n",
    "    if z == 1:\n",
    "        return alpha1 * gaussian_pdf(x, mu1, sigma1)\n",
    "    elif z == 2:\n",
    "        return alpha2 * gaussian_pdf(x, mu2, sigma2)"
   ]
  },
  {
   "cell_type": "markdown",
   "id": "0b51f5ed",
   "metadata": {},
   "source": [
    "<span style=\"color:purple\">4)编写函数Y(x,parameter,z)  \n",
    "给定参数$(\\alpha_1(t),\\alpha_2(t),\\mu_1(t),\\mu_2(t),\\sigma_1(t),\\sigma_2(t))$以及数据集D,计算每个样本$x_i$的$y_{1,i}=P((z_i=1)|x_i,\\theta)$和$y_{2,i}=P((z_i=2)|x_i,\\theta)$.  \n",
    "公式如下:  \n",
    "</span>"
   ]
  },
  {
   "cell_type": "markdown",
   "id": "6eba14dc",
   "metadata": {},
   "source": [
    "$$P((z_i=1)|x_i,\\theta) = \\frac{\\alpha_1(t)f_1(x_i|\\theta_1(t))}{\\alpha_1(t)f_1(x_i|\\theta_1(t))+\\alpha_2(t)f_2(x_i|\\theta_2(t))}$$  \n",
    "$$P((z_i=2)|x_i,\\theta) = \\frac{\\alpha_2(t)f_2(x_i|\\theta_2(t))}{\\alpha_1(t)f_1(x_i|\\theta_1(t))+\\alpha_2(t)f_2(x_i|\\theta_2(t))}$$"
   ]
  },
  {
   "cell_type": "code",
   "execution_count": 566,
   "id": "edc0e43f",
   "metadata": {},
   "outputs": [],
   "source": [
    "# parameter=[alpha1,alpha2,mu1,mu2,sigma1,sigma2]\n",
    "def Y(x, parameter, z):\n",
    "    # 计算两个分布的加权概率密度\n",
    "    P1 = P(x, parameter, 1)\n",
    "    P2 = P(x, parameter, 2)\n",
    "    common = P1 + P2\n",
    "    # 计算后验概率\n",
    "    y1 = P1 / common\n",
    "    y2 = P2 / common\n",
    "\n",
    "    if z == 1:\n",
    "        return y1\n",
    "    elif z == 2:\n",
    "        return y2"
   ]
  },
  {
   "cell_type": "markdown",
   "id": "c68cba90",
   "metadata": {},
   "source": [
    "<span style=\"color:purple\">5)编写函数Q(x,parameter)  \n",
    " 计算对数似然函数在该分布和基于$\\theta(t)$下的期望值$Q(\\theta)$.单个样本的期望值公式如下:$$E_{z_i}logP(x_i,z_i|\\theta)=y_{1,i}log(\\alpha_1(t)f_1(x_i|\\theta_1(t)))+y_{2,i}log(\\alpha_2(t)f_2(x_i|\\theta_2(t)))$$</span>"
   ]
  },
  {
   "cell_type": "code",
   "execution_count": 567,
   "id": "6678b0f5",
   "metadata": {},
   "outputs": [],
   "source": [
    "# parameter=[alpha1,alpha2,mu1,mu2,sigma1,sigma2]\n",
    "def Q(x, parameter):\n",
    "    y1 = Y(x, parameter, 1)\n",
    "    y2 = Y(x, parameter, 2)\n",
    "    # 计算两个分布的加权概率密度\n",
    "    P1 = P(x, parameter, 1)\n",
    "    P2 = P(x, parameter, 2)\n",
    "    return y1 * np.log(P1) + y2 * np.log(P2)"
   ]
  },
  {
   "cell_type": "markdown",
   "id": "1640536b",
   "metadata": {},
   "source": [
    "**<font color = black size=4>M步 (Maximization Step)</font>**"
   ]
  },
  {
   "cell_type": "markdown",
   "id": "553d509e",
   "metadata": {},
   "source": [
    "<span style=\"color:purple\">6)编写函数alpha_expection(D,parameter)  \n",
    " 给定参数$(\\alpha_1(t),\\alpha_2(t),\\mu_1(t),\\mu_2(t),\\sigma_1(t),\\sigma_2(t))$以及数据集D，计算第$(t+1)$轮的$(\\alpha_1(t+1),\\alpha_2(t+1))$的更新值.\n",
    "</span>"
   ]
  },
  {
   "cell_type": "markdown",
   "id": "2b18e03a",
   "metadata": {},
   "source": [
    "$$\\alpha_1(t+1)=\\frac{\\sum_{i=1}^m{y_{1,i}}}{m}$$  \n",
    "$$\\alpha_2(t+1)=\\frac{\\sum_{i=1}^m{y_{2,i}}}{m}$$"
   ]
  },
  {
   "cell_type": "code",
   "execution_count": 568,
   "id": "816571c3",
   "metadata": {},
   "outputs": [],
   "source": [
    "# parameter=[alpha1,alpha2,mu1,mu2,sigma1,sigma2]\n",
    "def alpha_expection(D, parameter):\n",
    "    # 计算y1和y2的总和\n",
    "    sum_y1, sum_y2 = 0, 0\n",
    "    # 遍历全部样本\n",
    "    for x in D:\n",
    "        y1 = Y(x, parameter, 1)\n",
    "        y2 = Y(x, parameter, 2)\n",
    "        sum_y1 += y1\n",
    "        sum_y2 += y2\n",
    "    # 计算新的alpha值\n",
    "    m = len(D)\n",
    "    alpha_next_1 = sum_y1 / m\n",
    "    alpha_next_2 = sum_y2 / m\n",
    "\n",
    "    return alpha_next_1, alpha_next_2"
   ]
  },
  {
   "cell_type": "markdown",
   "id": "75d91543",
   "metadata": {},
   "source": [
    "<span style=\"color:purple\">7)编写函数mu_expection(D,parameter)  \n",
    "给定参数$(\\alpha_1(t),\\alpha_2(t),\\mu_1(t),\\mu_2(t),\\sigma_1(t),\\sigma_2(t))$以及数据集D，计算第$(t+1)$轮的$(\\mu_1(t+1),\\mu_2(t+1))$的更新值.\n",
    "</span>"
   ]
  },
  {
   "cell_type": "markdown",
   "id": "17f77382",
   "metadata": {},
   "source": [
    "$$\\mu_1(t+1)=\\frac{\\sum_{i=1}^m{y_{1,i}x_i}}{\\sum_{i=1}^m{y_{1,i}}}$$\n",
    "$$\\mu_2(t+1)=\\frac{\\sum_{i=1}^m{y_{2,i}x_i}}{\\sum_{i=1}^m{y_{2,i}}}$$"
   ]
  },
  {
   "cell_type": "code",
   "execution_count": 569,
   "id": "cce50059",
   "metadata": {},
   "outputs": [],
   "source": [
    "# parameter=[alpha1,alpha2,mu1,mu2,sigma1,sigma2]\n",
    "def mu_expection(D, parameter):\n",
    "    # 计算y1*x和y2*x的总和\n",
    "    sum_y1_x, sum_y2_x = 0, 0\n",
    "    # 计算y1和y2的总和\n",
    "    sum_y1, sum_y2 = 0, 0\n",
    "    # 遍历全部样本\n",
    "    for x in D:\n",
    "        y1 = Y(x, parameter, 1)\n",
    "        y2 = Y(x, parameter, 2)\n",
    "        sum_y1_x += y1 * x\n",
    "        sum_y2_x += y2 * x\n",
    "        sum_y1 += y1\n",
    "        sum_y2 += y2\n",
    "    # 计算新的mu值\n",
    "    mu_next_1 = sum_y1_x / sum_y1\n",
    "    mu_next_2 = sum_y2_x / sum_y2\n",
    "\n",
    "    return mu_next_1, mu_next_2"
   ]
  },
  {
   "cell_type": "markdown",
   "id": "dab8612a",
   "metadata": {},
   "source": [
    "<span style=\"color:purple\">8)编写函数sigma_expection(D,parameter,mu_next_1,mu_next_2)  \n",
    "给定参数$(\\alpha_1(t),\\alpha_2(t),\\mu_1(t),\\mu_2(t),\\sigma_1(t),\\sigma_2(t))$以及数据集D，计算第$(t+1)$轮的$(\\sigma_1(t+1),\\sigma_2(t+1))$的更新值.\n",
    "</span>"
   ]
  },
  {
   "cell_type": "markdown",
   "id": "44c47937",
   "metadata": {},
   "source": [
    "$$\\sigma_1(t+1)=\\sqrt{\\frac{\\sum_{i=1}^m{y_{1,i}(x_i-\\mu_1(t+1))^2}}{\\sum_{i=1}^m{y_{1,i}}}}$$\n",
    "$$\\sigma_2(t+1)=\\sqrt{\\frac{\\sum_{i=1}^m{y_{2,i}(x_i-\\mu_2(t+1))^2}}{\\sum_{i=1}^m{y_{2,i}}}}$$"
   ]
  },
  {
   "cell_type": "code",
   "execution_count": 570,
   "id": "58084451",
   "metadata": {},
   "outputs": [],
   "source": [
    "#parameter=[alpha1,alpha2,mu1,mu2,sigma1,sigma2]\n",
    "def sigma_expection(D, parameter, mu_next_1, mu_next_2):\n",
    "    # 计算y1*(x-mu_next_1)^2 和 y2*(x-mu_next_2)^2 的总和\n",
    "    sum_y1_squared_diff, sum_y2_squared_diff = 0, 0\n",
    "    # 计算y1和y2的总和\n",
    "    sum_y1, sum_y2 = 0, 0\n",
    "    # 遍历全部样本\n",
    "    for x in D:\n",
    "        y1 = Y(x, parameter, 1)\n",
    "        y2 = Y(x, parameter, 2)\n",
    "        sum_y1_squared_diff += y1 * (x - mu_next_1) ** 2\n",
    "        sum_y2_squared_diff += y2 * (x - mu_next_2) ** 2\n",
    "        sum_y1 += y1\n",
    "        sum_y2 += y2\n",
    "\n",
    "    # 计算新的sigma值\n",
    "    sigma_next_1 = np.sqrt(sum_y1_squared_diff / sum_y1) \n",
    "    sigma_next_2 = np.sqrt(sum_y2_squared_diff / sum_y2) \n",
    "\n",
    "    return sigma_next_1, sigma_next_2"
   ]
  },
  {
   "cell_type": "markdown",
   "id": "20f96c7c",
   "metadata": {},
   "source": [
    "**<font color = black size=4>E步和M步的迭代过程</font>**"
   ]
  },
  {
   "cell_type": "markdown",
   "id": "cc5376c4",
   "metadata": {},
   "source": [
    "<span style=\"color:purple\">9) 利用前面编写的函数完成EM算法的迭代过程，直至达到收敛要求。请至少完成【3次】不同的初始值下的迭代过程，并比较选出最好的。  \n",
    "    收敛要求给出如下几种参考:  \n",
    "    1.迭代轮数达到指定轮数;  \n",
    "    2.每轮参数更新的差值小于阈值.</span>"
   ]
  },
  {
   "cell_type": "markdown",
   "id": "51849ee6",
   "metadata": {},
   "source": [
    "<img src='./EM Algorithm Pseudocode.png'>"
   ]
  },
  {
   "cell_type": "markdown",
   "id": "8125c35e",
   "metadata": {},
   "source": [
    "\n",
    "我们给出这个数据集的正确相关信息作为参考:$\\theta_1:(\\alpha_1=0.625,\\mu_1=175,\\sigma_1=4)$,$\\theta_2:(\\alpha_2=0.375,\\mu_2=165,\\sigma_2=6)$"
   ]
  },
  {
   "cell_type": "code",
   "execution_count": 571,
   "id": "0949818d",
   "metadata": {},
   "outputs": [
    {
     "name": "stdout",
     "output_type": "stream",
     "text": [
      "参数更新不大,迭代提前终止\n",
      "[array([0.64074885]), array([0.35925115]), array([175.32094459]), array([164.80558518]), array([4.05016916]), array([5.54591965])]\n",
      "参数更新不大,迭代提前终止\n",
      "[array([0.61766935]), array([0.38233065]), array([175.44655386]), array([165.23742147]), array([3.99341631]), array([5.72916787])]\n",
      "参数更新不大,迭代提前终止\n",
      "[array([0.35915156]), array([0.64084844]), array([164.80369389]), array([175.3203704]), array([5.54511609]), array([4.05043028])]\n",
      "参数更新不大,迭代提前终止\n",
      "[array([0.61763856]), array([0.38236144]), array([175.44671166]), array([165.23798864]), array([3.99334492]), array([5.72940785])]\n",
      "参数更新不大,迭代提前终止\n",
      "[array([0.64073008]), array([0.35926992]), array([175.32105282]), array([164.80594175]), array([4.05011994]), array([5.54607115])]\n",
      "初始参数组合1结果: θ₁:(α₁=0.641, μ₁=175.3, σ₁=4.1), θ₂:(α₂=0.359, μ₂=164.8, σ₂=5.5)\n",
      "初始参数组合2结果: θ₁:(α₁=0.618, μ₁=175.4, σ₁=4.0), θ₂:(α₂=0.382, μ₂=165.2, σ₂=5.7)\n",
      "初始参数组合3结果: θ₁:(α₁=0.359, μ₁=164.8, σ₁=5.5), θ₂:(α₂=0.641, μ₂=175.3, σ₂=4.1)\n",
      "初始参数组合4结果: θ₁:(α₁=0.618, μ₁=175.4, σ₁=4.0), θ₂:(α₂=0.382, μ₂=165.2, σ₂=5.7)\n",
      "初始参数组合5结果: θ₁:(α₁=0.641, μ₁=175.3, σ₁=4.1), θ₂:(α₂=0.359, μ₂=164.8, σ₂=5.5)\n",
      "数据集标准参数: θ₁:(α₁=0.625, μ₁=175.0, σ₁=4.0), θ₂:(α₂=0.375, μ₂=165.0, σ₂=6.0)\n",
      "\n",
      "利用收敛参数计算得到的期望结果Q进行比较\n",
      "Q_values: [array([-7167.50510306]), array([-7213.22275621]), array([-7167.30866242]), array([-7213.28369865]), array([-7167.54214281])]\n",
      "最好的初始参数组合为组合3:[0.4, 0.6, 156, 190, 1, 2]\n",
      "\n",
      "利用同标准模型参数的差距进行选取\n",
      "param_difference: [array([0.16679022]), array([0.08871419]), array([1.87956909]), array([0.08880776]), array([0.16667355])]\n",
      "最好的初始参数组合为组合2:[0.5, 0.5, 175, 165, 5, 5]\n",
      "\n",
      "利用综合指标进行评估\n",
      "combined_scores: [array([-0.67315519]), array([-0.59468577]), array([-2.46433541]), array([-0.59478788]), array([-0.67303575])]\n",
      "最好的初始参数组合为组合2: [0.5, 0.5, 175, 165, 5, 5]\n"
     ]
    }
   ],
   "source": [
    "# 定义计算参数更新前后差值的函数\n",
    "def calculate_param_difference(old_params, new_params):\n",
    "    diff = 0\n",
    "    param_ranges = [0.5, 0.5, 175, 175, 5, 5]\n",
    "    for old, new, range in zip(old_params, new_params, param_ranges):\n",
    "        diff += abs(new - old) / range\n",
    "    return diff\n",
    "\n",
    "\n",
    "# 定义EM算法的迭代过程\n",
    "def em_algorithm(D, initial_params, max_iterations=200, tolerance=0.001):\n",
    "    \"\"\"\n",
    "    param D: 数据集\n",
    "    param initial_params: 初始参数\n",
    "    param max_iterations: 最大迭代次数\n",
    "    param tolerance: 参数更新的差值阈值\n",
    "    return: 更新后的参数\n",
    "    \"\"\"\n",
    "    old_params = initial_params\n",
    "    # 迭代指定轮数\n",
    "    for _ in range(max_iterations):\n",
    "        # E步骤: 计算后验概率\n",
    "        # 这一步已经包含在后面的期望计算中\n",
    "\n",
    "        # M步骤: 更新参数\n",
    "        alpha_next_1, alpha_next_2 = alpha_expection(D, old_params)\n",
    "        mu_next_1, mu_next_2 = mu_expection(D, old_params)\n",
    "        sigma_next_1, sigma_next_2 = sigma_expection(\n",
    "            D, old_params, mu_next_1, mu_next_2\n",
    "        )\n",
    "        # 更新参数\n",
    "        new_params = [\n",
    "            alpha_next_1,\n",
    "            alpha_next_2,\n",
    "            mu_next_1,\n",
    "            mu_next_2,\n",
    "            sigma_next_1,\n",
    "            sigma_next_2,\n",
    "        ]\n",
    "\n",
    "        # 检查收敛\n",
    "        param_diff = calculate_param_difference(old_params, new_params)\n",
    "        # # 参数更新的差值小于阈值 则达到收敛要求 提前结束循环\n",
    "        if param_diff < tolerance:\n",
    "            print(\"参数更新不大,迭代提前终止\")\n",
    "            break\n",
    "        # 更新参数进行下一次计算\n",
    "        old_params = new_params\n",
    "    # 返回最终参数\n",
    "    return new_params\n",
    "\n",
    "\n",
    "# 设置不同的初始参数\n",
    "initial_params_set = [\n",
    "    parameter,  # 开始设置的参数组合1\n",
    "    [0.5, 0.5, 175, 165, 5, 5],  # 初始参数组合2\n",
    "    [0.4, 0.6, 156, 190, 1, 2],  # 初始参数组合3\n",
    "    [0.6, 0.4, 168, 167, 12, 8],  # 初始参数组合4\n",
    "    [0.9, 0.4, 188, 144, 2, 2],  # 初始参数组合5\n",
    "]\n",
    "\n",
    "# 执行EM算法\n",
    "results = []\n",
    "for initial_params in initial_params_set:\n",
    "    result = em_algorithm(height_dataset, initial_params)\n",
    "    print(result)\n",
    "    results.append(result)\n",
    "\n",
    "# 输出结果\n",
    "for i, result in enumerate(results):\n",
    "    print(\n",
    "        f\"初始参数组合{i + 1}结果: θ₁:(α₁={result[0].item():.3f}, μ₁={result[2].item():.1f}, σ₁={result[4].item():.1f}), θ₂:(α₂={result[1].item():.3f}, μ₂={result[3].item():.1f}, σ₂={result[5].item():.1f})\"\n",
    "    )\n",
    "\n",
    "# 正确的模型参数\n",
    "correct_params = [0.625, 0.375, 175, 165, 4, 6]\n",
    "print(\n",
    "    f\"数据集标准参数: θ₁:(α₁={correct_params[0]:.3f}, μ₁={correct_params[2]:.1f}, σ₁={correct_params[4]:.1f}), θ₂:(α₂={correct_params[1]:.3f}, μ₂={correct_params[3]:.1f}, σ₂={correct_params[5]:.1f})\"\n",
    ")\n",
    "# 利用参数得到的期望结果进行比较\n",
    "# 比较Q值\n",
    "Q_values = []\n",
    "for i, result in enumerate(results):\n",
    "    Q_value = 0\n",
    "    for x in height_dataset:\n",
    "        Q_value += Q(x, result)\n",
    "    Q_values.append(Q_value)\n",
    "\n",
    "# 找出Q值最大的初始化参数\n",
    "max_Q_index = Q_values.index(max(Q_values))\n",
    "best_initial_params_by_Q = initial_params_set[max_Q_index]\n",
    "print()\n",
    "print(\"利用收敛参数计算得到的期望结果Q进行比较\")\n",
    "print(\"Q_values:\", Q_values)\n",
    "print(f\"最好的初始参数组合为组合{max_Q_index+1}:{best_initial_params_by_Q}\")\n",
    "\n",
    "\n",
    "# 利用和正确的模型参数的差异进行选取\n",
    "# 比较各个初始化参数得到的结果与正确参数的差异\n",
    "differences = []\n",
    "for result in results:\n",
    "    # 调用计算参数差异的函数进行计算\n",
    "    diff = calculate_param_difference(correct_params, result)\n",
    "    differences.append(diff)\n",
    "\n",
    "# 找出最小差异对应的初始化参数\n",
    "min_diff_index = differences.index(min(differences))\n",
    "best_initial_params_by_diff = initial_params_set[min_diff_index]\n",
    "print()\n",
    "print(\"利用同标准模型参数的差距进行选取\")\n",
    "print(\"param_difference:\", differences)\n",
    "print(f\"最好的初始参数组合为组合{min_diff_index+1}:{best_initial_params_by_diff}\")\n",
    "\n",
    "# 标准化Q值和参数差异\n",
    "Q_values_normalized = Q_values / np.abs(np.mean(Q_values))\n",
    "differences_normalized = differences / np.abs(np.mean(differences))\n",
    "# 通过加权平均的方式综合考虑Q值和参数差异\n",
    "weights = [0.5, 0.5]  # 权重调整\n",
    "combined_scores = []\n",
    "for Q_val, diff in zip(Q_values_normalized, differences_normalized):\n",
    "    score = weights[0] * Q_val - weights[1] * diff  # Q值越大越好，差异越小越好\n",
    "    combined_scores.append(score)\n",
    "best_combined_index = combined_scores.index(max(combined_scores))\n",
    "best_combined_params = initial_params_set[best_combined_index]\n",
    "print()\n",
    "print(\"利用综合指标进行评估\")\n",
    "print(\"combined_scores:\",combined_scores)\n",
    "print(f\"最好的初始参数组合为组合{best_combined_index + 1}: {best_combined_params}\")"
   ]
  },
  {
   "cell_type": "markdown",
   "id": "ce37c15b",
   "metadata": {},
   "source": [
    "**<font color = blue size=4>第二部分:作业提交</font>**"
   ]
  },
  {
   "cell_type": "markdown",
   "id": "d90cab67",
   "metadata": {},
   "source": [
    "一、实验课下课前提交完成代码，如果下课前未完成，请将已经完成的部分进行提交，未完成的部分于之后的实验报告中进行补充  \n",
    "要求:  \n",
    "1)文件格式为：学号-姓名.ipynb  \n",
    "2)【不要】提交文件夹、压缩包、数据集等无关文件，只需提交单个ipynb文件即可，如果交错请到讲台前联系助教，删掉之前的错误版本后再进行提交"
   ]
  },
  {
   "cell_type": "markdown",
   "id": "651240a9",
   "metadata": {},
   "source": [
    "二、实验报告截止日期： 【11月24日 14:20】\n",
    "要求：  \n",
    "1)文件格式为：学号-姓名.pdf  \n",
    "2)【不要】提交文件夹、压缩包、代码文件、数据集等任何与实验报告无关的文件，只需要提交单个pdf文件即可  \n",
    "3)文件命名时不需要额外添加“实验几”等额外信息，按照格式提交  \n",
    "4)每周的实验报告提交地址会变化，且有时间限制，提交时间为下周的实验课开始时，请注意及时提交。"
   ]
  },
  {
   "cell_type": "markdown",
   "id": "bc07e4e0",
   "metadata": {},
   "source": [
    "实验十(EM算法)的实验报告上交地址:https://send2me.cn/9UjusmMn/S_Cz3o_FpKQEsA  "
   ]
  },
  {
   "cell_type": "markdown",
   "id": "7ee9cfb6",
   "metadata": {},
   "source": [
    "三、课堂课件获取地址:https://www.jianguoyun.com/p/DZKTh-IQp5WhChiIn6gFIAA  \n",
    "实验内容获取地址:https://www.jianguoyun.com/p/DbCHB9wQp5WhChiKn6gFIAA"
   ]
  }
 ],
 "metadata": {
  "kernelspec": {
   "display_name": "Python 3",
   "language": "python",
   "name": "python3"
  },
  "language_info": {
   "codemirror_mode": {
    "name": "ipython",
    "version": 3
   },
   "file_extension": ".py",
   "mimetype": "text/x-python",
   "name": "python",
   "nbconvert_exporter": "python",
   "pygments_lexer": "ipython3",
   "version": "3.9.13"
  }
 },
 "nbformat": 4,
 "nbformat_minor": 5
}
