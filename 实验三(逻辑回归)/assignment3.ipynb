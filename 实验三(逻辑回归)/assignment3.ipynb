{
 "cells": [
  {
   "cell_type": "markdown",
   "id": "498d70fa",
   "metadata": {},
   "source": [
    "**<font color = black size=6>实验三:逻辑回归</font>**"
   ]
  },
  {
   "cell_type": "markdown",
   "id": "fa5c5483",
   "metadata": {},
   "source": [
    "**<font color = blue size=4>第一部分:函数介绍</font>**"
   ]
  },
  {
   "cell_type": "markdown",
   "id": "869f21ce",
   "metadata": {},
   "source": [
    "<span style=\"color:purple\">机器学习所使用的数据集并不一定能够直接进行使用，如可能出现缺失值或者异常值（如异常0或者异常大的数据），又或者是数据类型不适合直接应用于模型训练等。因此，数据预处理是机器学习过程中十分重要的一个部分。<br>本次实验包括数据预处理，包括判断数据是否有缺失值以及异常值、缺失值替换操作、并将部分特征值类型转换为适合模型训练的类型。在进行逻辑回归实验之前，首先介绍下上述操作所用到的python语法。</span>"
   ]
  },
  {
   "cell_type": "markdown",
   "id": "3957a94a",
   "metadata": {},
   "source": [
    "<span style=\"color:purple\">1) 判断一列中是否有缺失值</span>"
   ]
  },
  {
   "cell_type": "code",
   "execution_count": 3150,
   "id": "5472add3",
   "metadata": {},
   "outputs": [],
   "source": [
    "import pandas as pd\n",
    "import numpy as np\n",
    "import matplotlib.pyplot as plt\n",
    "import math\n",
    "import matplotlib as mpl\n",
    "# ignore warnings\n",
    "import warnings\n",
    "warnings.filterwarnings('ignore')"
   ]
  },
  {
   "cell_type": "code",
   "execution_count": 3151,
   "id": "dc6837f2",
   "metadata": {},
   "outputs": [
    {
     "name": "stdout",
     "output_type": "stream",
     "text": [
      "   height  weight     sex\n",
      "0   170.0    54.0    Male\n",
      "1   180.0     NaN    Male\n",
      "2   164.0    48.0  Female\n",
      "3     NaN    66.0    Male\n",
      "4   176.0     NaN  Female\n",
      "5   162.0    59.0    Male\n",
      "6   154.0    46.0    Male\n",
      "7   155.0    58.0  Female\n",
      "8   165.0     0.0  Female\n",
      "9     NaN    50.0  Female\n"
     ]
    }
   ],
   "source": [
    "#通过pandas将csv文件转换为dataframe格式后进行操作\n",
    "train1_frame = pd.read_csv('introduction.csv')\n",
    "#该数据描述了不同性别的人的身高和体重数据\n",
    "print(train1_frame)\n",
    "#打印出数据，观察数据异常值情况"
   ]
  },
  {
   "cell_type": "code",
   "execution_count": 3152,
   "id": "029c5ac0",
   "metadata": {},
   "outputs": [
    {
     "name": "stdout",
     "output_type": "stream",
     "text": [
      "height    2\n",
      "weight    2\n",
      "sex       0\n",
      "dtype: int64\n",
      "   height  weight     sex\n",
      "0   170.0    54.0    Male\n",
      "1   180.0     NaN    Male\n",
      "2   164.0    48.0  Female\n",
      "3     NaN    66.0    Male\n",
      "4   176.0     NaN  Female\n",
      "5   162.0    59.0    Male\n",
      "6   154.0    46.0    Male\n",
      "7   155.0    58.0  Female\n",
      "8   165.0     0.0  Female\n",
      "9     NaN    50.0  Female\n"
     ]
    }
   ],
   "source": [
    "#可发现数据异常值包括0和空值(即NAN)\n",
    "#判断每一列是否有空值并返回每列空值的数量\n",
    "print(train1_frame.isnull().sum())\n",
    "print(train1_frame)"
   ]
  },
  {
   "cell_type": "markdown",
   "id": "75d469ff",
   "metadata": {},
   "source": [
    "<span style=\"color:purple\">2) 对每一列的缺失值和异常值进行替换操作</span>"
   ]
  },
  {
   "cell_type": "code",
   "execution_count": 3153,
   "id": "891fed76",
   "metadata": {},
   "outputs": [
    {
     "name": "stdout",
     "output_type": "stream",
     "text": [
      "   height  weight     sex\n",
      "0   170.0    54.0    Male\n",
      "1   180.0     NaN    Male\n",
      "2   164.0    48.0  Female\n",
      "3     NaN    66.0    Male\n",
      "4   176.0     NaN  Female\n",
      "5   162.0    59.0    Male\n",
      "6   154.0    46.0    Male\n",
      "7   155.0    58.0  Female\n",
      "8   165.0     NaN  Female\n",
      "9     NaN    50.0  Female\n"
     ]
    }
   ],
   "source": [
    "#先将0替换为空值，之后可考虑将空值替换为平均值。\n",
    "#利用pandas中的replace函数将某一列的指定值替换为另一个值\n",
    "train1_frame[['height', 'weight']]=train1_frame[['height', 'weight']].replace(0, np.NaN)\n",
    "print(train1_frame)"
   ]
  },
  {
   "cell_type": "code",
   "execution_count": 3154,
   "id": "d42546a4",
   "metadata": {},
   "outputs": [
    {
     "name": "stdout",
     "output_type": "stream",
     "text": [
      "   height  weight     sex\n",
      "0   170.0   54.00    Male\n",
      "1   180.0   56.25    Male\n",
      "2   164.0   48.00  Female\n",
      "3   166.5   66.00    Male\n",
      "4   176.0   52.00  Female\n",
      "5   162.0   59.00    Male\n",
      "6   154.0   46.00    Male\n",
      "7   155.0   58.00  Female\n",
      "8   165.0   52.00  Female\n",
      "9   165.0   50.00  Female\n"
     ]
    }
   ],
   "source": [
    "#替换空值为平均值\n",
    "# 先分离 height 列和weight列\n",
    "height_column = train1_frame['height']\n",
    "weight_column = train1_frame['weight']\n",
    "# 按性别分类并计算每组的平均身高和平均体重\n",
    "mean_height_by_gender = train1_frame.groupby('sex')['height'].transform('mean')\n",
    "mean_weight_by_gender = train1_frame.groupby('sex')['weight'].transform('mean')\n",
    "# 使用每个性别组的平均值来替换缺失值\n",
    "train1_frame['height'].fillna(mean_height_by_gender, inplace=True)\n",
    "train1_frame['weight'].fillna(mean_weight_by_gender, inplace=True)\n",
    "# 打印结果\n",
    "print(train1_frame)"
   ]
  },
  {
   "cell_type": "markdown",
   "id": "d0ea36f6",
   "metadata": {},
   "source": [
    "<span style=\"color:purple\">3) 将标记值从字符串变成容易操作的整数类型</span>"
   ]
  },
  {
   "cell_type": "code",
   "execution_count": 3155,
   "id": "8341000e",
   "metadata": {},
   "outputs": [
    {
     "name": "stdout",
     "output_type": "stream",
     "text": [
      "   height  weight     sex\n",
      "0   170.0   54.00    Male\n",
      "1   180.0   56.25    Male\n",
      "2   164.0   48.00  Female\n",
      "3   166.5   66.00    Male\n",
      "4   176.0   52.00  Female\n",
      "5   162.0   59.00    Male\n",
      "6   154.0   46.00    Male\n",
      "7   155.0   58.00  Female\n",
      "8   165.0   52.00  Female\n",
      "9   165.0   50.00  Female\n",
      "   height  weight  sex\n",
      "0   170.0   54.00    0\n",
      "1   180.0   56.25    0\n",
      "2   164.0   48.00    1\n",
      "3   166.5   66.00    0\n",
      "4   176.0   52.00    1\n",
      "5   162.0   59.00    0\n",
      "6   154.0   46.00    0\n",
      "7   155.0   58.00    1\n",
      "8   165.0   52.00    1\n",
      "9   165.0   50.00    1\n"
     ]
    }
   ],
   "source": [
    "print(train1_frame)\n",
    "train1_frame['sex'] = np.where(train1_frame['sex'] == \"Male\", 0, 1)\n",
    "print(train1_frame)"
   ]
  },
  {
   "cell_type": "markdown",
   "id": "ac00368d",
   "metadata": {},
   "source": [
    "<span style=\"color:purple\">4) 可视化分类决策边界</span>"
   ]
  },
  {
   "cell_type": "code",
   "execution_count": 3156,
   "id": "f4314e6f",
   "metadata": {},
   "outputs": [
    {
     "data": {
      "image/png": "[encoded data removed]",
      "text/plain": [
       "<Figure size 1000x500 with 1 Axes>"
      ]
     },
     "metadata": {},
     "output_type": "display_data"
    }
   ],
   "source": [
    "#确定图画边界和大小\n",
    "plt.figure(figsize=(10,5))\n",
    "x_min, x_max = 0,10\n",
    "y_min, y_max = 0,5\n",
    "#使用numpy中的meshgrid生成网格矩阵，方便进行之后的描点\n",
    "boundary_x, boundary_y = np.meshgrid(np.arange(x_min, x_max, 0.01),np.arange(y_min, y_max, 0.01))\n",
    "grid = np.c_[boundary_x.ravel(), boundary_y.ravel()]\n",
    "#加入偏置(或w_0)对应的特征为1的一列\n",
    "e=np.ones((len(grid),1))\n",
    "grid=np.c_[e,grid]\n",
    "#假定下列的模型参数\n",
    "w=np.array([[0],[3],[-6]])\n",
    "#计算出网格点中每个点对应的逻辑回归预测值\n",
    "z=grid.dot(w)\n",
    "for i in range(len(z)):\n",
    "    z[i][0]=(1/(1+np.exp(-z[i][0])))\n",
    "    if(z[i][0]<0.5):z[i][0]=0\n",
    "    else:z[i][0]=1\n",
    "#转换shape以作出决策边界\n",
    "z=z.reshape(boundary_x.shape)\n",
    "plt.contourf(boundary_x, boundary_y, z, cmap=plt.cm.Spectral, zorder=1)\n",
    "plt.show()"
   ]
  },
  {
   "cell_type": "markdown",
   "id": "8ab1eff8",
   "metadata": {},
   "source": [
    "<span style=\"color:purple\">5) 散点图</span>"
   ]
  },
  {
   "cell_type": "code",
   "execution_count": 3157,
   "id": "8c07701a",
   "metadata": {},
   "outputs": [
    {
     "data": {
      "image/png": "[encoded data removed]",
      "text/plain": [
       "<Figure size 640x480 with 1 Axes>"
      ]
     },
     "metadata": {},
     "output_type": "display_data"
    }
   ],
   "source": [
    "\"\"\"\n",
    "可使用plt.scatter来绘制出测试集的每个样本点，并设置指定颜色来区分预测正确和错误的样本\n",
    "plt.scatter(x,y,c=\"color\")，x、y为坐标值，c为指定颜色\n",
    "\"\"\"\n",
    "class_1=train1_frame[train1_frame['sex']==1]\n",
    "class_0=train1_frame[train1_frame['sex']==0]\n",
    "plt.scatter(class_1['height'],class_1['weight'],c='blue')\n",
    "plt.scatter(class_0['height'],class_0['weight'],c='red')\n",
    "plt.show()"
   ]
  },
  {
   "cell_type": "markdown",
   "id": "657beb0c",
   "metadata": {},
   "source": [
    "**<font color = blue size=4>第二部分:逻辑回归</font>**"
   ]
  },
  {
   "cell_type": "code",
   "execution_count": 3158,
   "id": "226badd7",
   "metadata": {},
   "outputs": [],
   "source": [
    "import pandas as pd\n",
    "import numpy as np\n",
    "import matplotlib.pyplot as plt\n",
    "import math\n",
    "import matplotlib as mpl"
   ]
  },
  {
   "cell_type": "markdown",
   "id": "7a0bdb6f",
   "metadata": {},
   "source": [
    "<span style=\"color:purple\">Iris数据集（鸢尾花卉数据集）是常用的分类实验数据集,是一类多重变量分析的数据集。我们实验选取数据集的部分内容，包含训练集80个数据样本和测试20个样本。每个数据有2个属性：花萼长度($x_1$)，花萼宽度($x_2$)。通过这2个属性预测鸢尾花卉属于（Setosa，Versicolour）二个种类中的哪一类。</span>"
   ]
  },
  {
   "cell_type": "markdown",
   "id": "70d2906a",
   "metadata": {},
   "source": [
    "<span style=\"color:purple\">1) 使用pandas库将训练数据集'flower_train.csv'与测试数据集'flower_test.csv'载入到Dataframe对象中。判断训练集中每列数据是否有缺失值或者不合理的数值，如果有，请进行数据预处理。测试集为完好的数据集，不需要进行预处理。由于花卉类型(type)为字符串类型，请将训练集和测试集中花卉类型转换为适合模型训练的类型</span>"
   ]
  },
  {
   "cell_type": "code",
   "execution_count": 3159,
   "id": "f59640f4",
   "metadata": {},
   "outputs": [
    {
     "name": "stdout",
     "output_type": "stream",
     "text": [
      "x1      5\n",
      "x2      6\n",
      "type    0\n",
      "dtype: int64\n"
     ]
    }
   ],
   "source": [
    "#your code here------\n",
    "\n",
    "# 通过pandas将csv文件转换为dataframe格式后进行操作\n",
    "train_frame = pd.read_csv(\"flower_train.csv\")\n",
    "test_frame = pd.read_csv(\"flower_test.csv\")\n",
    "\n",
    "# 将0替换为空值，之后将空值替换为修正的值(例如：平均值、中数、众数等)\n",
    "# 利用pandas中的replace函数将某一列的指定值替换为另一个值\n",
    "train_frame[[\"x1\", \"x2\"]] = train_frame[[\"x1\", \"x2\"]].replace(0, np.NaN)\n",
    "# 进行数据判断 查看是否存在缺失值或不合理的数值\n",
    "# 判断每一列是否有空值 查看结果\n",
    "print(train_frame.isnull().sum())\n",
    "# 先对x1列进行分离，之后将temp按照花卉类型type进行分类，之后使用mean函数分别计算Iris-setosa和Iris-versicolor非空数据的x1的平均值\n",
    "temp = train_frame[train_frame[\"x1\"].notnull()]\n",
    "temp = temp[[\"x1\", \"type\"]].groupby([\"type\"])[[\"x1\"]].mean().reset_index()\n",
    "# 使用dataframe的loc函数将指定条件的x1列和type列筛选出来进行值替换操作\n",
    "train_frame.loc[(train_frame[\"type\"] == \"Iris-setosa\") & (train_frame[\"x1\"].isnull()), \"x1\"] = temp[\"x1\"][0]\n",
    "train_frame.loc[(train_frame[\"type\"] == \"Iris-versicolor\") & (train_frame[\"x1\"].isnull()), \"x1\"] = temp[\"x1\"][1]\n",
    "\n",
    "# 再对x2列进行分离，之后将temp按照花卉类型type进行分类，之后使用mean函数分别计算Iris-setosa和Iris-versicolor非空数据的x2的平均值\n",
    "temp = train_frame[train_frame[\"x2\"].notnull()]\n",
    "temp = temp[[\"x2\", \"type\"]].groupby([\"type\"])[[\"x2\"]].mean().reset_index()\n",
    "# 使用dataframe的loc函数将指定条件的x1列和type列筛选出来进行值替换操作\n",
    "train_frame.loc[(train_frame[\"type\"] == \"Iris-setosa\") & (train_frame[\"x2\"].isnull()), \"x2\"] = temp[\"x2\"][0]\n",
    "train_frame.loc[(train_frame[\"type\"] == \"Iris-versicolor\") & (train_frame[\"x2\"].isnull()), \"x2\"] = temp[\"x2\"][1]\n",
    "\n",
    "# 将结果值从字符串转换成容易操作的整数类型\n",
    "train_frame[\"type\"] = np.where(train_frame[\"type\"] == \"Iris-setosa\", 0, 1)\n",
    "test_frame[\"type\"] = np.where(test_frame[\"type\"] == \"Iris-setosa\", 0, 1)\n",
    "\n",
    "flower_train=np.array(train_frame)\n",
    "\n",
    "# 测试集是完好的数据集 不需要进行预处理\n",
    "flower_test=np.array(test_frame)\n",
    "\n",
    "# print(flower_train)\n",
    "# print(flower_test)"
   ]
  },
  {
   "cell_type": "markdown",
   "id": "75b2fd55",
   "metadata": {},
   "source": [
    "<span style=\"color:purple\">2)线性模型为$y=\\omega^T x$，在这里，我们将偏置量b当成模型参数$w_0$，并额外引入$x_0=1$这一特征。请相应地往测试集和训练集添加$x_0=1$这一特征。\n",
    " \n",
    "tips:上一次实验中的矩阵求解析解的方法中，需要往特征中加入一列全1的特征量，此处类似。</span>"
   ]
  },
  {
   "cell_type": "code",
   "execution_count": 3160,
   "id": "6c2c4001",
   "metadata": {},
   "outputs": [
    {
     "name": "stdout",
     "output_type": "stream",
     "text": [
      "[[1.         5.03243243 3.5       ]\n",
      " [1.         4.9        3.        ]\n",
      " [1.         4.7        3.2       ]\n",
      " [1.         4.6        3.1       ]\n",
      " [1.         5.         3.6       ]\n",
      " [1.         5.4        3.9       ]\n",
      " [1.         4.6        3.44324324]\n",
      " [1.         5.         3.4       ]\n",
      " [1.         4.4        2.9       ]\n",
      " [1.         4.9        3.1       ]\n",
      " [1.         5.4        3.7       ]\n",
      " [1.         4.8        3.4       ]\n",
      " [1.         5.03243243 3.        ]\n",
      " [1.         4.3        3.        ]\n",
      " [1.         5.8        4.        ]\n",
      " [1.         5.7        4.4       ]\n",
      " [1.         5.4        3.9       ]\n",
      " [1.         5.1        3.5       ]\n",
      " [1.         5.7        3.44324324]\n",
      " [1.         5.1        3.8       ]\n",
      " [1.         5.4        3.4       ]\n",
      " [1.         5.1        3.7       ]\n",
      " [1.         4.6        3.6       ]\n",
      " [1.         5.1        3.3       ]\n",
      " [1.         4.8        3.4       ]\n",
      " [1.         5.         3.        ]\n",
      " [1.         5.         3.4       ]\n",
      " [1.         5.2        3.5       ]\n",
      " [1.         5.2        3.4       ]\n",
      " [1.         4.7        3.2       ]\n",
      " [1.         4.8        3.1       ]\n",
      " [1.         5.03243243 3.4       ]\n",
      " [1.         5.2        4.1       ]\n",
      " [1.         5.5        4.2       ]\n",
      " [1.         4.9        3.1       ]\n",
      " [1.         5.         3.2       ]\n",
      " [1.         5.5        3.5       ]\n",
      " [1.         4.9        3.1       ]\n",
      " [1.         4.4        3.44324324]\n",
      " [1.         5.1        3.4       ]\n",
      " [1.         5.         2.        ]\n",
      " [1.         5.9        3.        ]\n",
      " [1.         6.         2.2       ]\n",
      " [1.         5.91315789 2.9       ]\n",
      " [1.         5.6        2.9       ]\n",
      " [1.         6.7        3.1       ]\n",
      " [1.         5.6        3.        ]\n",
      " [1.         5.8        2.7       ]\n",
      " [1.         6.2        2.2       ]\n",
      " [1.         5.6        2.5       ]\n",
      " [1.         5.9        3.2       ]\n",
      " [1.         6.1        2.8       ]\n",
      " [1.         6.3        2.5       ]\n",
      " [1.         6.1        2.8       ]\n",
      " [1.         6.4        2.9       ]\n",
      " [1.         6.6        3.        ]\n",
      " [1.         6.8        2.8       ]\n",
      " [1.         6.7        3.        ]\n",
      " [1.         6.         2.9       ]\n",
      " [1.         5.7        2.74864865]\n",
      " [1.         5.5        2.4       ]\n",
      " [1.         5.5        2.4       ]\n",
      " [1.         5.8        2.7       ]\n",
      " [1.         6.         2.7       ]\n",
      " [1.         5.4        3.        ]\n",
      " [1.         6.         3.4       ]\n",
      " [1.         6.7        3.1       ]\n",
      " [1.         6.3        2.3       ]\n",
      " [1.         5.6        3.        ]\n",
      " [1.         5.5        2.5       ]\n",
      " [1.         5.5        2.6       ]\n",
      " [1.         6.1        3.        ]\n",
      " [1.         5.8        2.6       ]\n",
      " [1.         5.91315789 2.3       ]\n",
      " [1.         5.6        2.7       ]\n",
      " [1.         5.7        2.74864865]\n",
      " [1.         5.7        2.9       ]\n",
      " [1.         6.2        2.9       ]\n",
      " [1.         5.1        2.74864865]\n",
      " [1.         5.7        2.8       ]]\n"
     ]
    }
   ],
   "source": [
    "#your code here------\n",
    "\n",
    "X=flower_train[:,0:2]\n",
    "Y=flower_train[:,2:3]\n",
    "# print(X.shape)\n",
    "\n",
    "# 最后一列设置为1 \n",
    "A = np.ones((X.shape[0],1))\n",
    "X = np.c_[A,X]\n",
    "print(X)"
   ]
  },
  {
   "cell_type": "markdown",
   "id": "fec5c2ed",
   "metadata": {},
   "source": [
    "<span style=\"color:purple\">3) 由于逻辑回归的原理是用逻辑函数把线性回归的结果(-∞,∞)映射到(0,1)所以逻辑回归适合于二分类问题。我们使用sigmoid函数$g(z)=\\frac{1}{1+e^{-z}}$将把线性回归的结果从(-∞,∞)映射到(0,1)。  \n",
    "    假设模型为线性回归模型$\\hat{y}=\\omega_0+\\omega_1 x_1+\\omega_2 x_2+...+\\omega_n x_n=\\omega^T x$，则在给定样本特征$x$,其标记$y=1$的概率为$$P(y=1|x,w)=\\frac{1}{1+e^{-\\omega^T x}}$$  \n",
    "    对应于任意一个样本(${x_i}$,$y_i$),其中$x_i$为特征值，$y_i$为实际标记值,在参数$\\omega$下，该样本发生的概率为$$P(y_i|x_i,\\omega)=y_i{P(y_i=1|x_i,\\omega)}+({1-y_i}){P(y_i=0|x_i,\\omega)}$$\n",
    "    将每个样本发生概率相乘，得到似然函数:$$\\Pi^m_{i=1}{P(y_i|x_i,\\omega)}$$\n",
    "    为了计算方便，一般取对数得到对数似然函数:$$L(\\omega)=\\sum^m_{i=1}{lnP(y_i|x_i,\\omega)}$$  \n",
    "    我们总是希望出现预测正确的概率的可能性最大，即想要得到极大化似然函数对应的参数$\\omega$。我们进一步将最大化似然函数就转变为最小化似然函数的负数，以方便使用梯度下降法进行求解。取负的平均对数似然函数为损失函数,通过这样构建的损失函数$$J(\\omega)=-\\frac{1}{m}\\sum^m_{i=1}{lnP(y_i|x_i,\\omega)}=-\\frac{1}{m}\\sum^m_{i=1}ln(y_i\\frac{1}{1+e^{-\\omega^T x_i}}+(1-y_i)\\frac{e^{-\\omega^T x_i}}{1+e^{-\\omega^T x_i}})$$  \n",
    "    手动实现梯度下降法(不使用机器学习框架，如PyTorch、TensorFlow等)来进行模型的训练。  </span>"
   ]
  },
  {
   "cell_type": "markdown",
   "id": "f1a81c73",
   "metadata": {},
   "source": [
    "<span style=\"color:purple\">算法步骤如下：①初始化模型参数$\\omega$的值；②在负梯度的方向上更新参数(由于该实验涉及样本数量较小，建议使用批量梯度下降)，并不断迭代这一步骤。</span>"
   ]
  },
  {
   "cell_type": "markdown",
   "id": "4e922340",
   "metadata": {},
   "source": [
    "<span style=\"color:purple\">其中梯度的下降偏导公式为\n",
    "    $$\\frac{\\partial J}{\\partial \\omega_j}=\\frac{1}{m}\\sum_{i=1}^m x_{ij}(\\frac{e^{\\omega^T x_i}}{1+e^{\\omega^T x_i}}-y_i)$$  \n",
    "    参数更新的公式为$$\\omega_j =\\omega_j-\\eta\\frac{\\partial J}{\\partial w_j}$$其中$\\eta$表示学习率，$m$则表示批量中的样本数量，$x_{ij}$代表着第i个样本的第j个特征值,$y_i$代表着第i个样本的真实值</span>\n"
   ]
  },
  {
   "cell_type": "code",
   "execution_count": 3161,
   "id": "8a92473b",
   "metadata": {},
   "outputs": [
    {
     "name": "stdout",
     "output_type": "stream",
     "text": [
      "[[-1.51080649]\n",
      " [ 3.15602115]\n",
      " [-5.02756231]]\n",
      "批量梯度下降法: w0 = -1.510806489305918 ,w1 = 3.1560211523962662 ,w2 = -5.0275623082883625\n",
      "梯度下降前的损失: 1.3739276830934297\n",
      "梯度下降后的损失: 0.09452307186332418\n"
     ]
    },
    {
     "data": {
      "image/png": "[encoded data removed]",
      "text/plain": [
       "<Figure size 1000x600 with 1 Axes>"
      ]
     },
     "metadata": {},
     "output_type": "display_data"
    }
   ],
   "source": [
    "#your code here------\n",
    "\n",
    "# 定义sigmoid函数\n",
    "def sigmoid(z):\n",
    "    return 1/(1+np.exp(-z))\n",
    "\n",
    "# 损失值的计算\n",
    "def logistic_loss(y, y_pred):\n",
    "    return -np.mean(np.log(y * (y_pred) + (1 - y) *(1 - y_pred)))\n",
    "\n",
    "def gradient_descent(X, Y, learning_rate, n_iteration,tol=1e-6):\n",
    "    m, n = X.shape # 获取样本数量m和维度n\n",
    "    X = np.insert(X, 0, 1, axis=1) # 添加1到原始数据的最前面\n",
    "    parameters = np.random.randn(n + 1, 1) # 随机初始化参数\n",
    "    loss_list = []\n",
    "\n",
    "    for it in range(n_iteration):\n",
    "        Y_pred = sigmoid(X @ parameters) # 计算预测值\n",
    "        loss = logistic_loss(Y, Y_pred)  # 计算损失\n",
    "        loss_list.append(loss)   # 存储损失\n",
    "\n",
    "        # 如果前后损失之差小于给定阈值，停止迭代\n",
    "        if it > 0 and abs(loss_list[-1] - loss_list[-2]) < tol:\n",
    "            print(f\"在迭代 {it}处达到收敛.\")\n",
    "            break\n",
    "        \n",
    "        gradients = X.T @ (Y_pred - Y) / m # 计算梯度\n",
    "        parameters -= learning_rate * gradients # 更新参数\n",
    "\n",
    "    return parameters, loss_list\n",
    "\n",
    "\n",
    "X=flower_train[:,0:2]\n",
    "Y=flower_train[:,2:3]\n",
    "\n",
    "para,losses=gradient_descent(X,Y,0.01,10000)\n",
    "print(para)\n",
    "\n",
    "w0 = para[0][0]\n",
    "w1 = para[1][0]\n",
    "w2 = para[2][0]\n",
    "\n",
    "print(\"批量梯度下降法: w0 =\", w0, \",w1 =\", w1, \",w2 =\", w2)  # 存储于B中\n",
    "\n",
    "print(\"梯度下降前的损失:\", losses[0])\n",
    "print(\"梯度下降后的损失:\", losses[len(losses) - 1])\n",
    "\n",
    "# 可视化损失值\n",
    "plt.figure(figsize=(10, 6))\n",
    "plt.plot(losses)\n",
    "plt.xlabel(\"Iteration\")\n",
    "plt.ylabel(\"Loss\")\n",
    "plt.title(\"Loss during Gradient Descent\")\n",
    "plt.show()\n"
   ]
  },
  {
   "cell_type": "markdown",
   "id": "b24f2e7e",
   "metadata": {},
   "source": [
    "<span style=\"color:purple\">4)在模型训练完成后得到所训练的模型参数$\\omega$，在测试集上进行所训练模型的测试并使用之前所介绍的损失函数计算loss值</span>"
   ]
  },
  {
   "cell_type": "code",
   "execution_count": 3162,
   "id": "a4253a5c",
   "metadata": {},
   "outputs": [
    {
     "name": "stdout",
     "output_type": "stream",
     "text": [
      "0.16343265907047702\n"
     ]
    }
   ],
   "source": [
    "#your code here------\n",
    "\n",
    "X_=flower_test[:,:-1]\n",
    "X_ = np.insert(X_, 0, 1, axis=1) # 添加1到原始数据的最前面\n",
    "Y_=flower_test[:,-1].reshape(-1,1)\n",
    "# 测试得到的参数\n",
    "\n",
    "Y_pre=sigmoid(X_@para)\n",
    "loss1=logistic_loss(Y_,Y_pre)\n",
    "\n",
    "print(loss1)\n"
   ]
  },
  {
   "cell_type": "markdown",
   "id": "dd339060",
   "metadata": {},
   "source": [
    "<span style=\"color:purple\">5)使用训练后的逻辑回归模型对测试数据集'flower_test.csv'进行预测，输出可视化结果（比如用seaborn或者matplotlib等可视化库来画出测试数据的散点图以及训练好的模型函数图像)，要求如下:  \n",
    "    1.将所得到的逻辑回归模型所得到的决策边界绘制出来  \n",
    "  2.测试集的所有点在同一幅图中进行绘制  \n",
    "  3.需要给不同类别的测试点不同颜色，方便通过颜色的区别直观看到预测正确和错误的样本</span>"
   ]
  },
  {
   "cell_type": "code",
   "execution_count": 3163,
   "id": "3597e87c",
   "metadata": {},
   "outputs": [
    {
     "data": {
      "image/png": "[encoded data removed]",
      "text/plain": [
       "<Figure size 1000x500 with 1 Axes>"
      ]
     },
     "metadata": {},
     "output_type": "display_data"
    }
   ],
   "source": [
    "#your code here------\n",
    "\n",
    "#确定图画边界和大小\n",
    "plt.figure(figsize=(10,5))\n",
    "x_min, x_max = 4,8\n",
    "y_min, y_max = 1,5\n",
    "#使用numpy中的meshgrid生成网格矩阵，方便进行之后的描点\n",
    "boundary_x, boundary_y = np.meshgrid(np.arange(x_min, x_max, 0.01),np.arange(y_min, y_max, 0.01))\n",
    "grid = np.c_[boundary_x.ravel(), boundary_y.ravel()]\n",
    "#加入偏置对应的一列\n",
    "e=np.ones((len(grid),1))\n",
    "grid=np.c_[e,grid]\n",
    "#假定下列的模型参数\n",
    "w=para\n",
    "#计算出网格点中每个点对应的逻辑回归预测值\n",
    "z=grid.dot(w)\n",
    "for i in range(len(z)):\n",
    "    z[i][0]=(1/(1+np.exp(-z[i])))\n",
    "    if(z[i][0]<0.5):z[i][0]=0\n",
    "    else:z[i][0]=1\n",
    "#转换shape以作出决策边界\n",
    "z=z.reshape(boundary_x.shape)\n",
    "plt.contourf(boundary_x, boundary_y, z, cmap=plt.cm.Spectral, zorder=1)\n",
    "\n",
    "# w0 = para[2][0]\n",
    "# w1 = para[0][0]\n",
    "# w2 = para[1][0]\n",
    "\n",
    "class_1=test_frame[test_frame['type']==1]\n",
    "class_0=test_frame[test_frame['type']==0]\n",
    "plt.scatter(class_1['x1'],class_1['x2'],c='blue')\n",
    "plt.scatter(class_0['x1'],class_0['x2'],c='red')\n",
    "plt.show()\n"
   ]
  },
  {
   "cell_type": "markdown",
   "id": "b869bee1",
   "metadata": {},
   "source": [
    "**<font color = blue size=4>第三部分:逻辑回归实验二</font>**"
   ]
  },
  {
   "cell_type": "markdown",
   "id": "cf3a5a55",
   "metadata": {},
   "source": [
    "<span style=\"color:purple\">该数据集(train_titanic.csv和test_titanic.csv)同样为分类数据集，为泰坦尼克号的乘客信息以及最后是否生还。每个包括了七个特征值以及标记(代表是否生还),特征信息分别为Passengerid(乘客id)，Age(乘客年龄)，Fare(船票价格),Sex(性别)，sibsp(堂兄弟妹个数)，Parch(父母与小孩的个数)，Pclass(乘客等级)</span>"
   ]
  },
  {
   "cell_type": "markdown",
   "id": "f4a492fe",
   "metadata": {},
   "source": [
    "<span style=\"color:purple\">该数据集已经做了处理，无缺失值和空值，且字符串类型全部转换成了整数类型，你们需要进行判断，在七个特征值至少选择四个你认为与最后是否生还关联度高的特征类别。该实验的任务依然是在训练集上使用逻辑回归方法和手动实现的梯度下降方法完成模型训练。</span>"
   ]
  },
  {
   "cell_type": "code",
   "execution_count": 3164,
   "id": "7ebd3c1e",
   "metadata": {},
   "outputs": [],
   "source": [
    "import pandas as pd\n",
    "import numpy as np\n",
    "import matplotlib.pyplot as plt\n",
    "import math"
   ]
  },
  {
   "cell_type": "markdown",
   "id": "915ff106",
   "metadata": {},
   "source": [
    "<span style=\"color:purple\">1) 使用pandas库将训练数据集'train_titanic.csv'与测试数据集'test_titanic.csv'载入到Dataframe对象中</span>"
   ]
  },
  {
   "cell_type": "code",
   "execution_count": 3165,
   "id": "7056ffde",
   "metadata": {},
   "outputs": [],
   "source": [
    "#your code here------\n",
    "\n",
    "# 载入训练数据集\n",
    "train_titanic_frame=pd.read_csv('train_titanic.csv')\n",
    "# 载入测试数据集\n",
    "test_titanic_frame=pd.read_csv('test_titanic.csv')"
   ]
  },
  {
   "cell_type": "markdown",
   "id": "9abde442",
   "metadata": {},
   "source": [
    "<span style=\"color:purple\">2)利用上个实验所使用的梯度下降方法(由于该数据集样本数量较大，所以建议使用随机批量或小批量)进行模型训练</span>"
   ]
  },
  {
   "cell_type": "code",
   "execution_count": 3166,
   "id": "55e62317",
   "metadata": {},
   "outputs": [
    {
     "name": "stdout",
     "output_type": "stream",
     "text": [
      "[[ 9.94924569e-01]\n",
      " [-3.99959424e-02]\n",
      " [ 8.15649177e-05]\n",
      " [ 6.70492619e-01]\n",
      " [-5.85221288e-01]]\n",
      "梯度下降前的损失: 8.815406774307457\n",
      "梯度下降后的损失: 0.5749020301655643\n"
     ]
    },
    {
     "data": {
      "image/png": "[encoded data removed]",
      "text/plain": [
       "<Figure size 1000x600 with 1 Axes>"
      ]
     },
     "metadata": {},
     "output_type": "display_data"
    }
   ],
   "source": [
    "#your code here------\n",
    "\n",
    "def sigmoid(z):\n",
    "    return 1 / (1 + np.exp(-z))\n",
    "\n",
    "# 定义小批量梯度下降函数\n",
    "def mini_batch_gradient_descent(X, Y, learning_rate, n_iteration, batch_size):\n",
    "    m, n = X.shape # 获取样本数量m和维度n\n",
    "    X = np.insert(X, 0, 1, axis=1 ) # 添加1到原始数据的第一列\n",
    "    parameters = np.random.randn(n + 1, 1) # 随机初始化参数\n",
    "    loss_list = []\n",
    "    \n",
    "    for it in range(n_iteration):\n",
    "        indices = np.arange(m) # 生成整数序列\n",
    "        np.random.shuffle(indices) # 打乱整数序列\n",
    "        # 打乱数据\n",
    "        X = X[indices]\n",
    "        Y = Y[indices]\n",
    "        \n",
    "        # 每次迭代的过程中 以batch_size的大小进行处理\n",
    "        for i in range(0, m, batch_size):\n",
    "            X_mini_batch = X[i:i+batch_size]\n",
    "            Y_mini_batch = Y[i:i+batch_size].reshape(-1, 1)\n",
    "            Y_pred = sigmoid(X_mini_batch @ parameters) # 计算预测值\n",
    "            loss = logistic_loss(Y_mini_batch, Y_pred) # 计算损失值\n",
    "            gradients = X_mini_batch.T @ (Y_pred - Y_mini_batch) / batch_size #计算梯度\n",
    "\n",
    "            parameters -= learning_rate * gradients # 更新参数\n",
    "        \n",
    "        # 存储每个迭代的总损失\n",
    "        Y_pred_full = sigmoid(X @ parameters)\n",
    "        loss_full = logistic_loss(Y, Y_pred_full)\n",
    "        loss_list.append(loss_full)\n",
    "\n",
    "    return parameters, loss_list\n",
    "\n",
    "# 选择乘客年龄Age、船票价格Fare、性别Sex和乘客等级Pclass四个特征作为特征类别\n",
    "selected_features = [\"Age\", \"Fare\", \"Sex\", \"Pclass\"]\n",
    "# 获取X\n",
    "X_train = train_titanic_frame[selected_features]\n",
    "X_train=np.array(X_train)\n",
    "# 获取Y\n",
    "train_titanic=np.array(train_titanic_frame)\n",
    "Y_train=train_titanic[:,-1]\n",
    "\n",
    "parameters,loss=mini_batch_gradient_descent(X_train,Y_train,0.001,1000,256)\n",
    "print(parameters)\n",
    "\n",
    "print(\"梯度下降前的损失:\", loss[0])\n",
    "print(\"梯度下降后的损失:\", loss[len(loss) - 1])\n",
    "\n",
    "# 可视化损失值\n",
    "plt.figure(figsize=(10, 6))\n",
    "plt.plot(loss)\n",
    "plt.xlabel(\"Iteration\")\n",
    "plt.ylabel(\"Loss\")\n",
    "plt.title(\"Loss during Gradient Descent\")\n",
    "plt.show()"
   ]
  },
  {
   "cell_type": "markdown",
   "id": "95f698bc",
   "metadata": {},
   "source": [
    "<span style=\"color:purple\">3) 使用训练后的逻辑回归模型对测试数据集'test_titanic.csv'进行预测，并计算其loss值：</span>"
   ]
  },
  {
   "cell_type": "code",
   "execution_count": 3167,
   "id": "4dd020b7",
   "metadata": {},
   "outputs": [
    {
     "name": "stdout",
     "output_type": "stream",
     "text": [
      "Loss: 0.595366216869511\n",
      "准确率: 66.66666666666666 %\n"
     ]
    }
   ],
   "source": [
    "#your code here------\n",
    "\n",
    "# 获取X_test\n",
    "selected_features = [\"Age\", \"Fare\", \"Sex\", \"Pclass\"]\n",
    "X_test = test_titanic_frame[selected_features]\n",
    "test_titanic_X=np.array(X_test)\n",
    "X_test = np.insert(test_titanic_X, 0, 1, axis=1) # 添加1到原始数据的最前面\n",
    "\n",
    "# 获取Y_test\n",
    "test_titanic=np.array(test_titanic_frame)\n",
    "Y_test=test_titanic[:,-1].reshape(-1,1)\n",
    "\n",
    "# 测试得到的参数\n",
    "\n",
    "# 计算损失值\n",
    "Y_pre=sigmoid(X_test@parameters)\n",
    "loss2=logistic_loss(Y_test,Y_pre)\n",
    "print(\"Loss:\",loss2)\n",
    "\n",
    "# 将预测的概率值转换为分类结果\n",
    "y_pred = np.where(Y_pre >= 0.5, 1, 0)\n",
    "y_pred=y_pred.ravel()\n",
    "y_true = test_titanic_frame[\"Survived\"].values\n",
    "# 计算准确率\n",
    "print(\"准确率:\",np.sum(y_pred==y_true)/len(y_true)*100,\"%\")\n",
    "# accuracy = np.mean(y_pred == y_true)\n"
   ]
  },
  {
   "cell_type": "markdown",
   "id": "354bddd7",
   "metadata": {},
   "source": [
    "**<font color = blue size=4>第四部分:作业提交链接</font>**"
   ]
  },
  {
   "cell_type": "markdown",
   "id": "35a454a5",
   "metadata": {},
   "source": [
    "1.实验报告提交链接(有效期直至9.22 14:20): https://send2me.cn/uohF8xm-/SvKmbAQRlFSKqQ\n",
    "\n",
    "实验报告需包含：内容，代码，解释，结果，总结"
   ]
  },
  {
   "cell_type": "markdown",
   "id": "be05c034",
   "metadata": {},
   "source": [
    "2.实验课件获取链接: https://www.jianguoyun.com/p/DZzHw20Qp5WhChjwoZwFIAA"
   ]
  }
 ],
 "metadata": {
  "kernelspec": {
   "display_name": "Python 3 (ipykernel)",
   "language": "python",
   "name": "python3"
  }
 },
 "nbformat": 4,
 "nbformat_minor": 5
}
