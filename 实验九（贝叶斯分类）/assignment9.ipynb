{
 "cells": [
  {
   "cell_type": "markdown",
   "id": "dcc9ef1a",
   "metadata": {},
   "source": [
    "**<font color = black size=6>实验九:贝叶斯分类</font>**"
   ]
  },
  {
   "cell_type": "code",
   "execution_count": 113,
   "id": "ef6f7c39",
   "metadata": {},
   "outputs": [],
   "source": [
    "from collections import Counter\n",
    "import numpy as np\n",
    "import pandas as pd\n",
    "import matplotlib.pyplot as plt\n",
    "import math"
   ]
  },
  {
   "cell_type": "markdown",
   "id": "83ab07c9",
   "metadata": {},
   "source": [
    "**<font color = blue size=4>第一部分:实验任务</font>**"
   ]
  },
  {
   "cell_type": "markdown",
   "id": "76a0aa2c",
   "metadata": {},
   "source": [
    "1.朴素贝叶斯"
   ]
  },
  {
   "cell_type": "markdown",
   "metadata": {},
   "source": [
    "<img src='./Naive Bayes Classifier Pseudocode.jpg'>"
   ]
  },
  {
   "cell_type": "markdown",
   "id": "5365ec76",
   "metadata": {},
   "source": [
    "<span style=\"color:purple\">该数据集(train_mushroom.csv)为分类数据集，为蘑菇的特征信息以及是否有毒。包括了13个特征以及一个标签(即为label类型,代表是否有毒)。label='p'代表有毒，label='e'代表无毒。</span>"
   ]
  },
  {
   "cell_type": "markdown",
   "id": "ba6819a7",
   "metadata": {},
   "source": [
    "<span style=\"color:purple\">1) 将训练数据集'train_mushroom.csv'和'test_mushroom.csv'载入并转换为你需要的格式</span>"
   ]
  },
  {
   "cell_type": "code",
   "execution_count": 114,
   "id": "8474772f",
   "metadata": {},
   "outputs": [
    {
     "name": "stdout",
     "output_type": "stream",
     "text": [
      "[['s' 'n' 't' ... 'u' 'x' 'p']\n",
      " ['s' 'y' 't' ... 'g' 'x' 'e']\n",
      " ['s' 'w' 't' ... 'm' 'b' 'e']\n",
      " ...\n",
      " ['f' 'y' 'y' ... 'v' 'd' 'p']\n",
      " ['f' 'y' 'y' ... 'v' 'p' 'p']\n",
      " ['f' 'y' 'y' ... 'y' 'p' 'p']]\n",
      "[['k' 'y' 'n' ... 'v' 'd' 'p']\n",
      " ['b' 'f' 'g' ... 's' 'g' 'e']\n",
      " ['b' 's' 'g' ... 'n' 'g' 'e']\n",
      " ...\n",
      " ['k' 's' 'n' ... 'v' 'l' 'p']\n",
      " ['f' 'y' 'n' ... 'v' 'd' 'p']\n",
      " ['x' 's' 'w' ... 's' 'g' 'e']]\n"
     ]
    }
   ],
   "source": [
    "# 训练集 将数据格式转换为numpy数组\n",
    "train_frame = pd.read_csv(\"train_mushroom.csv\")\n",
    "train_data = np.array(train_frame)\n",
    "# 测试集 将数据格式转换为numpy数组\n",
    "test_frame = pd.read_csv(\"test_mushroom.csv\")\n",
    "test_data = np.array(test_frame)\n",
    "print(train_data)\n",
    "print(test_data)"
   ]
  },
  {
   "cell_type": "markdown",
   "id": "7ea73a75",
   "metadata": {},
   "source": [
    "<span style=\"color:purple\">2) 计算每个标签值y对应的先验概率P(y)\n",
    "$$P(y)=\\frac{|D_y|}{|D|}$$\n",
    "    其中$D_y$为标签值为y的样本集合，$|D_y|$为这个集合的样本个数；D为所有样本集合，|D|为所有样本个数\n",
    "\n",
    "</span>"
   ]
  },
  {
   "cell_type": "code",
   "execution_count": 115,
   "id": "8f26968d",
   "metadata": {},
   "outputs": [
    {
     "name": "stdout",
     "output_type": "stream",
     "text": [
      "未引入拉普拉斯平滑 标签值和对应的先验概率\n",
      "['e' 'p']\n",
      "[0.59, 0.41]\n"
     ]
    }
   ],
   "source": [
    "# 计算先验概率\n",
    "m = train_data.shape[0]  # 训练集样本个数\n",
    "unique_train_labels = np.unique(train_data[:, -1])\n",
    "print(\"未引入拉普拉斯平滑 标签值和对应的先验概率\")\n",
    "print(unique_train_labels)  # 打印查看标记种类\n",
    "label_counter = Counter(train_data[:, -1])  # 存储标签key和对应的个数\n",
    "P = []  # 存储先验概率\n",
    "# 计算每个标签的先验概率并进行存储\n",
    "for label in unique_train_labels:\n",
    "    P.append(label_counter[label] / m)\n",
    "print(P)\n",
    "prior_prob_e = P[0]  # 存储标签e的先验概率\n",
    "prior_prob_p = P[1]  # 存储标签p的先验概率"
   ]
  },
  {
   "cell_type": "markdown",
   "id": "24730295",
   "metadata": {},
   "source": [
    "<span style=\"color:purple\">3) 对于数据集中的每个特征的非重复特征值$x_i$，计算给定标签值y时特征值$x_i$的条件概率$P(x_i│y)$,\n",
    "    $$P(x_i│y)=\\frac{|D_{x_i,y}|}{|D_y|}$$\n",
    "$D_{x_i,y}$为标签值为y，特征值为$x_i$的样本集合；$|D_{x_i,y}|$为该集合的样本个数\n",
    "</span>"
   ]
  },
  {
   "cell_type": "code",
   "execution_count": 116,
   "id": "752e4961",
   "metadata": {},
   "outputs": [
    {
     "name": "stdout",
     "output_type": "stream",
     "text": [
      "[['s', 'y', 'f', 'x', 'b', 'k', 'c'], ['n', 'y', 'w', 'g', 's', 'f'], ['t', 'f', 'w', 'n', 'p', 'e', 'g', 'y', 'b', 'r', 'c', 'u'], ['p', 'a', 'l', 'n', 't', 'f'], ['f', 'y', 'n', 's'], ['n', 'b', 'c', 'w'], ['k', 'n', 'g', 'p', 'w', 'h', 'b'], ['e', 't', 'w', 'p', 'b', 'g', 'h', 'r'], ['p', 'e', 'o', 't'], ['k', 'n', 'u', 'p', 'e', 'l', 'f'], ['s', 'n', 'a', 'v', 'y', 'h', 'w', 'r'], ['u', 'g', 'm', 'd', 'p', 'v', 's', 'c', 'y'], ['x', 'b', 's', 'f', 'u', 'd', 'g', 'l', 'p', 'm', 'w']]\n",
      "{0: {'s': 0.05853658536585366, 'y': 0.11219512195121951, 'f': 0.36097560975609755, 'x': 0.424390243902439, 'b': 0.03902439024390244, 'k': 0.0, 'c': 0.004878048780487805}, 1: {'n': 0.06341463414634146, 'y': 0.5024390243902439, 'w': 0.1073170731707317, 'g': 0.0, 's': 0.2682926829268293, 'f': 0.05853658536585366}, 2: {'t': 0.17073170731707318, 'f': 0.00975609756097561, 'w': 0.14146341463414633, 'n': 0.17560975609756097, 'p': 0.02926829268292683, 'e': 0.04390243902439024, 'g': 0.12682926829268293, 'y': 0.2146341463414634, 'b': 0.08780487804878048, 'r': 0.0, 'c': 0.0, 'u': 0.0}, 3: {'p': 0.14634146341463414, 'a': 0.01951219512195122, 'l': 0.004878048780487805, 'n': 0.00975609756097561, 't': 0.32195121951219513, 'f': 0.4975609756097561}, 4: {'f': 0.7317073170731707, 'y': 0.11707317073170732, 'n': 0.0975609756097561, 's': 0.05365853658536585}, 5: {'n': 0.16097560975609757, 'b': 0.01951219512195122, 'c': 0.8146341463414634, 'w': 0.004878048780487805}, 6: {'k': 0.07317073170731707, 'n': 0.2731707317073171, 'g': 0.004878048780487805, 'p': 0.03414634146341464, 'w': 0.02926829268292683, 'h': 0.0, 'b': 0.5853658536585366}, 7: {'e': 0.17560975609756097, 't': 0.004878048780487805, 'w': 0.11707317073170732, 'p': 0.1902439024390244, 'b': 0.2146341463414634, 'g': 0.13170731707317074, 'h': 0.12682926829268293, 'r': 0.03902439024390244}, 8: {'p': 0.18048780487804877, 'e': 0.0, 'o': 0.7414634146341463, 't': 0.07804878048780488}, 9: {'k': 0.08292682926829269, 'n': 0.09268292682926829, 'u': 0.004878048780487805, 'p': 0.32195121951219513, 'e': 0.22926829268292684, 'l': 0.2682926829268293, 'f': 0.0}, 10: {'s': 0.06341463414634146, 'n': 0.014634146341463415, 'a': 0.0, 'v': 0.1024390243902439, 'y': 0.0, 'h': 0.5073170731707317, 'w': 0.23414634146341465, 'r': 0.07804878048780488}, 11: {'u': 0.09268292682926829, 'g': 0.06829268292682927, 'm': 0.014634146341463415, 'd': 0.004878048780487805, 'p': 0.0, 'v': 0.6, 's': 0.08780487804878048, 'c': 0.004878048780487805, 'y': 0.12682926829268293}, 12: {'x': 0.14634146341463414, 'b': 0.014634146341463415, 's': 0.00975609756097561, 'f': 0.00975609756097561, 'u': 0.0975609756097561, 'd': 0.17073170731707318, 'g': 0.2634146341463415, 'l': 0.06341463414634146, 'p': 0.17560975609756097, 'm': 0.04878048780487805, 'w': 0.0}}\n",
      "{0: {'s': 0.29152542372881357, 'y': 0.3254237288135593, 'f': 0.23728813559322035, 'x': 0.07796610169491526, 'b': 0.0, 'k': 0.06779661016949153, 'c': 0.0}, 1: {'n': 0.12203389830508475, 'y': 0.4576271186440678, 'w': 0.2847457627118644, 'g': 0.06440677966101695, 's': 0.0576271186440678, 'f': 0.013559322033898305}, 2: {'t': 0.6271186440677966, 'f': 0.14576271186440679, 'w': 0.006779661016949152, 'n': 0.06440677966101695, 'p': 0.04745762711864407, 'e': 0.03728813559322034, 'g': 0.0, 'y': 0.0, 'b': 0.02711864406779661, 'r': 0.01694915254237288, 'c': 0.020338983050847456, 'u': 0.006779661016949152}, 3: {'p': 0.0, 'a': 0.29491525423728815, 'l': 0.33220338983050846, 'n': 0.14576271186440679, 't': 0.15254237288135594, 'f': 0.07457627118644068}, 4: {'f': 0.7728813559322034, 'y': 0.0, 'n': 0.2271186440677966, 's': 0.0}, 5: {'n': 0.15593220338983052, 'b': 0.6169491525423729, 'c': 0.18305084745762712, 'w': 0.04406779661016949}, 6: {'k': 0.13559322033898305, 'n': 0.2745762711864407, 'g': 0.14576271186440679, 'p': 0.0847457627118644, 'w': 0.2, 'h': 0.006779661016949152, 'b': 0.15254237288135594}, 7: {'e': 0.7186440677966102, 't': 0.13898305084745763, 'w': 0.12542372881355932, 'p': 0.006779661016949152, 'b': 0.0, 'g': 0.0, 'h': 0.010169491525423728, 'r': 0.0}, 8: {'p': 0.7084745762711865, 'e': 0.06440677966101695, 'o': 0.07457627118644068, 't': 0.15254237288135594}, 9: {'k': 0.31186440677966104, 'n': 0.43389830508474575, 'u': 0.02711864406779661, 'p': 0.0, 'e': 0.19661016949152543, 'l': 0.0, 'f': 0.030508474576271188}, 10: {'s': 0.3152542372881356, 'n': 0.2, 'a': 0.03389830508474576, 'v': 0.10847457627118644, 'y': 0.1152542372881356, 'h': 0.030508474576271188, 'w': 0.19661016949152543, 'r': 0.0}, 11: {'u': 0.08135593220338982, 'g': 0.3559322033898305, 'm': 0.2, 'd': 0.07457627118644068, 'p': 0.061016949152542375, 'v': 0.0576271186440678, 's': 0.0, 'c': 0.15254237288135594, 'y': 0.01694915254237288}, 12: {'x': 0.36271186440677966, 'b': 0.2305084745762712, 's': 0.03389830508474576, 'f': 0.14576271186440679, 'u': 0.0, 'd': 0.030508474576271188, 'g': 0.0, 'l': 0.04406779661016949, 'p': 0.0, 'm': 0.0, 'w': 0.15254237288135594}}\n"
     ]
    }
   ],
   "source": [
    "# 首先遍历数据集D中的每个特征，将每个特征的非重复值取出\n",
    "m = train_data.shape[0]  # 样本个数\n",
    "n = train_data.shape[1] - 1  # 属性个数\n",
    "\n",
    "unique_features = []  # 存放每个属性的非重复值\n",
    "for i in range(n):  # l[i]表示第i个属性的非重复值\n",
    "    counter = Counter(train_data[:, i])\n",
    "    unique_features.append(list(counter))\n",
    "print(unique_features)  # 打印查看数据集中每个特征的非重复值\n",
    "\n",
    "# 根据标签值将数据集D分为两个子数据集，分别包括所有标签值为p的样本和所有标签值为e的样本。\n",
    "train_data_e = train_data[train_data[:, -1] == \"e\"]\n",
    "train_data_p = train_data[train_data[:, -1] == \"p\"]\n",
    "# 现以标签为p的数据集Dp为例子，遍历Dp的每个特征，分别求出该特征每个特征值的条件概率\n",
    "# 以特征cap-shape为例。Dp中cap-shape的非重复值集合为['b' 'c' 'f' 'k' 's' 'x' 'y']，计算条件概率P(cap-shape='b'|label='p'),P(cap-shape='c'|label='p'),...,P(cap-shape='y'|label='p')，\n",
    "# 上述对cap-shape特征操作完成后，按照同样的步骤对Dp中的剩余12个特征进行同样的操作\n",
    "\n",
    "cond_probabilities_p = {}  # 存储标记为p的条件概率结果\n",
    "for k in range(train_data_p.shape[1] - 1):\n",
    "    cond_probabilities_p[k] = {}  # 初始化 将对应每个属性索引处新建一个字典\n",
    "# 遍历子数据集的全部特征\n",
    "for j in range(train_data_p.shape[1] - 1):\n",
    "    # 遍历全部样本\n",
    "    feature_unique = unique_features[j]  # 获取每个属性的非重复值\n",
    "    for value in feature_unique:\n",
    "        # 对于每个属性 重新从全部样本中进行寻找\n",
    "        count_label = 0\n",
    "        for i in range(len(train_data_p)):\n",
    "            if train_data_p[i][j] == value:\n",
    "                count_label += 1\n",
    "        # 在对应属性列的位置 设置对应的字典k-v值 即 属性值-条件概率值\n",
    "        temple_dict = {}\n",
    "        temple_dict[value] = count_label / len(train_data_p)\n",
    "        cond_probabilities_p[j].update(temple_dict)\n",
    "print(cond_probabilities_p)\n",
    "\n",
    "# 得到数据集Dp中条件概率集合后，对另一个子数据集进行同样的操作\n",
    "\n",
    "cond_probabilities_e = {}  # 存储标记为e的条件概率结果\n",
    "for k in range(train_data_e.shape[1] - 1):\n",
    "    cond_probabilities_e[k] = {}\n",
    "# 遍历子数据集的全部特征\n",
    "for j in range(train_data_e.shape[1] - 1):\n",
    "    # 遍历全部样本\n",
    "    feature_unique = unique_features[j]  # 获取每个属性的非重复值\n",
    "    for value in feature_unique:\n",
    "        # 对于每个属性 重新从全部样本中进行寻找\n",
    "        count_label = 0\n",
    "        for i in range(len(train_data_e)):\n",
    "            if train_data_e[i][j] == value:\n",
    "                count_label += 1\n",
    "        # 在对应属性列的位置 设置对应的字典k-v值 即 属性值-条件概率值\n",
    "        temple_dict = {}  # 创建的临时字典 存储当前属性列的属性的条件概率\n",
    "        temple_dict[value] = count_label / len(train_data_e)\n",
    "        cond_probabilities_e[j].update(temple_dict)\n",
    "print(cond_probabilities_e)"
   ]
  },
  {
   "cell_type": "markdown",
   "id": "920340f7",
   "metadata": {},
   "source": [
    "<span style=\"color:purple\">4) 编写函数，给定样本$x=(x_1,...,x_i,...,x_d)$以及标签y, 计算其后验概率    \n",
    "    输入：样本x，标签y  \n",
    "    输出：样本x对应标签y的后验概率  \n",
    "    计算后验概率公式:\n",
    "$P(y)\\prod_{i=1}^{d}P(x_i|y)$   \n",
    "    \n",
    "<span style=\"color:purple\">例:  \n",
    "    特征和标签：(cap-shape, cap-surface,..., habitat), label  \n",
    "    输入: [k, y, n, f, s, c, n, b, o, e, w, v, d], p  \n",
    "    输出: P(label='p') $\\times$ P(cap-shape='k'|label='p') $\\times$ ... $\\times$ P(habitat='d'|label='p')</span>"
   ]
  },
  {
   "cell_type": "code",
   "execution_count": 117,
   "id": "703e4ffb",
   "metadata": {},
   "outputs": [],
   "source": [
    "# 经过测试发现测试集中存在新的属性值 导致字典出现键值对不匹配的错误\n",
    "# 因此选择对该错误捕捉并进行相应处理\n",
    "def pro(a, index):\n",
    "    # 初始化后验概率为之前计算的先验概率\n",
    "    post_pro = prior_prob_e if index == \"e\" else prior_prob_p\n",
    "    for i in range(len(a)):\n",
    "        try:\n",
    "            if index == \"p\":\n",
    "                # print(f\"处理特征 {i} 的值 {a[i]}\")  # 打印当前处理的特征\n",
    "                # 乘以对应i索引属性列下的属性值a[i]的条件概率\n",
    "                post_pro *= cond_probabilities_p[i][a[i]]\n",
    "            else:\n",
    "                # print(f\"处理特征 {i} 的值 {a[i]}\")  # 打印当前处理的特征\n",
    "                # 乘以对应i索引属性列下的属性值a[i]的条件概率\n",
    "                post_pro *= cond_probabilities_e[i][a[i]]\n",
    "        except KeyError:\n",
    "            # print(f\"出现未知特征值: 第{i}列，值 {a[i]}\")  # 打印异常信息\n",
    "            # 直接忽略未知的特征值\n",
    "            pass\n",
    "    return post_pro\n",
    "\n",
    "def pro_new(a, index):\n",
    "    # 初始化后验概率为之前计算的先验概率\n",
    "    post_pro = prior_prob_e if index == \"e\" else prior_prob_p\n",
    "    for i in range(len(a)):\n",
    "        try:\n",
    "            if index == \"p\":\n",
    "                # print(f\"处理特征 {i} 的值 {a[i]}\")  # 打印当前处理的特征\n",
    "                # 乘以对应i索引属性列下的属性值a[i]的条件概率\n",
    "                post_pro *= cond_probabilities_p[i][a[i]]\n",
    "            else:\n",
    "                # print(f\"处理特征 {i} 的值 {a[i]}\")  # 打印当前处理的特征\n",
    "                # 乘以对应i索引属性列下的属性值a[i]的条件概率\n",
    "                post_pro *= cond_probabilities_e[i][a[i]]\n",
    "        except KeyError:\n",
    "            print(f\"出现未知特征值: 第{i}列，值 {a[i]}\")  # 打印异常信息\n",
    "            # 直接忽略未知的特征值\n",
    "            post_pro = 0\n",
    "            pass\n",
    "    return post_pro"
   ]
  },
  {
   "cell_type": "markdown",
   "id": "6e2f8294",
   "metadata": {},
   "source": [
    "<span style=\"color:purple\">5) 对测试集中的每个样本a，利用上个步骤所编写的函数，分别求所有可能的标签对应的后验概率，后验概率更大的对应标签即为预测标签。最后与测试集本身标签进行比较计算出准确率</span>"
   ]
  },
  {
   "cell_type": "code",
   "execution_count": 118,
   "id": "720ab16b",
   "metadata": {},
   "outputs": [
    {
     "name": "stdout",
     "output_type": "stream",
     "text": [
      "朴素贝叶斯\n",
      "\n",
      "忽略未知的特征值\n",
      "准确率为: 21.05%\n",
      "\n",
      "后验概率置为0\n",
      "出现未知特征值: 第11列，值 n\n",
      "出现未知特征值: 第11列，值 n\n",
      "出现未知特征值: 第7列，值 n\n",
      "出现未知特征值: 第10列，值 b\n",
      "出现未知特征值: 第7列，值 n\n",
      "出现未知特征值: 第10列，值 b\n",
      "出现未知特征值: 第11列，值 n\n",
      "出现未知特征值: 第11列，值 n\n",
      "出现未知特征值: 第11列，值 n\n",
      "出现未知特征值: 第11列，值 n\n",
      "出现未知特征值: 第4列，值 m\n",
      "出现未知特征值: 第7列，值 y\n",
      "出现未知特征值: 第8列，值 n\n",
      "出现未知特征值: 第4列，值 m\n",
      "出现未知特征值: 第7列，值 y\n",
      "出现未知特征值: 第8列，值 n\n",
      "出现未知特征值: 第7列，值 y\n",
      "出现未知特征值: 第7列，值 y\n",
      "出现未知特征值: 第11列，值 n\n",
      "出现未知特征值: 第11列，值 n\n",
      "出现未知特征值: 第7列，值 n\n",
      "出现未知特征值: 第10列，值 b\n",
      "出现未知特征值: 第7列，值 n\n",
      "出现未知特征值: 第10列，值 b\n",
      "出现未知特征值: 第7列，值 y\n",
      "出现未知特征值: 第7列，值 y\n",
      "出现未知特征值: 第7列，值 y\n",
      "出现未知特征值: 第10列，值 b\n",
      "出现未知特征值: 第7列，值 y\n",
      "出现未知特征值: 第10列，值 b\n",
      "出现未知特征值: 第7列，值 n\n",
      "出现未知特征值: 第7列，值 n\n",
      "出现未知特征值: 第11列，值 n\n",
      "出现未知特征值: 第11列，值 n\n",
      "出现未知特征值: 第11列，值 n\n",
      "出现未知特征值: 第11列，值 n\n",
      "出现未知特征值: 第7列，值 n\n",
      "出现未知特征值: 第10列，值 b\n",
      "出现未知特征值: 第7列，值 n\n",
      "出现未知特征值: 第10列，值 b\n",
      "出现未知特征值: 第11列，值 n\n",
      "出现未知特征值: 第11列，值 n\n",
      "出现未知特征值: 第11列，值 n\n",
      "出现未知特征值: 第11列，值 n\n",
      "出现未知特征值: 第11列，值 n\n",
      "出现未知特征值: 第11列，值 n\n",
      "出现未知特征值: 第11列，值 n\n",
      "出现未知特征值: 第11列，值 n\n",
      "出现未知特征值: 第11列，值 n\n",
      "出现未知特征值: 第11列，值 n\n",
      "出现未知特征值: 第7列，值 y\n",
      "出现未知特征值: 第7列，值 y\n",
      "出现未知特征值: 第7列，值 n\n",
      "出现未知特征值: 第10列，值 o\n",
      "出现未知特征值: 第7列，值 n\n",
      "出现未知特征值: 第10列，值 o\n",
      "出现未知特征值: 第11列，值 n\n",
      "出现未知特征值: 第11列，值 n\n",
      "准确率为: 31.82%\n"
     ]
    }
   ],
   "source": [
    "# true_labels = test_data[:, -1]  # 测试集的真实标签\n",
    "# pre_labels = []  # 预测的标签\n",
    "# # 遍历测试集中全部样本\n",
    "# for i in range(test_data.shape[0]):\n",
    "#     pro_e = pro(test_data[i, :-1], \"e\")\n",
    "#     pro_p = pro(test_data[i, :-1], \"p\")\n",
    "#     if pro_e == 0 and pro_p == 0:\n",
    "#         print(\"----------------------\")\n",
    "#     temple_label = \"e\" if pro_e > pro_p else \"p\"  # 通过后验概率的大小判断预测标签\n",
    "#     pre_labels.append(temple_label)  # 添加预测的标签\n",
    "# # 计算准确率\n",
    "# accuracy = np.mean(pre_labels == true_labels)\n",
    "# print(\"准确率为: {:.2f}%\".format(accuracy * 100))\n",
    "\n",
    "# true_labels = test_data[:, -1]  # 测试集的真实标签\n",
    "# invalid_count = 0  # 统计无法预测的样本的数量\n",
    "# correct_count = 0  # 统计正确预测的样本的数量\n",
    "# # 遍历测试集中全部样本\n",
    "# for i in range(test_data.shape[0]):\n",
    "#     pro_e = pro(test_data[i, :-1], \"e\")\n",
    "#     pro_p = pro(test_data[i, :-1], \"p\")\n",
    "#     # 没有引入拉普拉斯平滑 存在可能都为0的情况\n",
    "#     if pro_e == pro_p:\n",
    "#         invalid_count += 1  # 统计无法判别的样本个数\n",
    "#     else:\n",
    "#         temple_label = \"e\" if pro_e > pro_p else \"p\"  # 通过后验概率的大小判断预测标签\n",
    "#         # 统计预测正确的个数\n",
    "#         if temple_label == true_labels[i]:\n",
    "#             correct_count += 1\n",
    "# # 计算准确率\n",
    "# accuracy = correct_count / (len(true_labels) - invalid_count)\n",
    "# print(\"准确率为: {:.2f}%\".format(accuracy * 100))\n",
    "\n",
    "\n",
    "def test_function(pro_function):\n",
    "    # 定义测试函数 传入不同的后验概率计算函数\n",
    "    true_labels = test_data[:, -1]  # 测试集的真实标签\n",
    "    invalid_count = 0  # 统计无法预测的样本的数量\n",
    "    correct_count = 0  # 统计正确预测的样本的数量\n",
    "    # 遍历测试集中全部样本\n",
    "    for i in range(test_data.shape[0]):\n",
    "        pro_e = pro_function(test_data[i, :-1], \"e\")\n",
    "        pro_p = pro_function(test_data[i, :-1], \"p\")\n",
    "        # 没有引入拉普拉斯平滑 存在可能都为0的情况\n",
    "        # 计算后验概率的函数也可能直接将后验概率置为0\n",
    "        # 同时 若后验概率大小相等 则该样本也不能被区分\n",
    "        if pro_e == pro_p:\n",
    "            invalid_count += 1  # 统计无法判别的样本个数\n",
    "        else:\n",
    "            temple_label = \"e\" if pro_e > pro_p else \"p\"  # 通过后验概率的大小判断预测标签\n",
    "            # 统计预测正确的个数\n",
    "            if temple_label == true_labels[i]:\n",
    "                correct_count += 1\n",
    "    # 计算准确率\n",
    "    accuracy = correct_count / (len(true_labels) - invalid_count)\n",
    "    print(\"准确率为: {:.2f}%\".format(accuracy * 100))\n",
    "\n",
    "\n",
    "print(\"朴素贝叶斯\")\n",
    "print()\n",
    "print(\"忽略未知的特征值\")\n",
    "test_function(pro)\n",
    "print()\n",
    "print(\"后验概率置为0\")\n",
    "test_function(pro_new)"
   ]
  },
  {
   "cell_type": "markdown",
   "id": "09d5da06",
   "metadata": {},
   "source": [
    "2.引入拉普拉斯平滑"
   ]
  },
  {
   "cell_type": "markdown",
   "id": "aaf951b2",
   "metadata": {},
   "source": [
    "<span style=\"color:purple\">1) 首先，请判断是否有某个特征值和某个类没有在训练集中同时出现而使得条件概率为零。如果无，则无需进行下列实验；如果有，请在上个实验的基础上引入拉普拉斯平滑</span>"
   ]
  },
  {
   "cell_type": "code",
   "execution_count": 119,
   "id": "d03dbc02",
   "metadata": {},
   "outputs": [
    {
     "name": "stdout",
     "output_type": "stream",
     "text": [
      "存在条件概率为0的情况,需要引入拉普拉斯平滑\n"
     ]
    }
   ],
   "source": [
    "# 设置初始标签Flag来进行判定\n",
    "Flag_e = False\n",
    "Flag_p = False\n",
    "# 遍历全部属性n\n",
    "for i in range(n):\n",
    "    # 遍历每个属性列下的全部的键值对\n",
    "    for j in cond_probabilities_e[i]:\n",
    "        # 检查某个属性值的条件概率是否为0\n",
    "        if cond_probabilities_e[i][j] == 0:\n",
    "            Flag_e = True\n",
    "            break\n",
    "    for j in cond_probabilities_p[i]:\n",
    "        # 通过其值是否为0来判断\n",
    "        if cond_probabilities_p[i][j] == 0:\n",
    "            Flag_p = True\n",
    "            break\n",
    "if Flag_e or Flag_p:\n",
    "    print(\"存在条件概率为0的情况,需要引入拉普拉斯平滑\")\n",
    "else:\n",
    "    print(\"不存在条件概率为0的情况,不需要引入拉普拉斯平滑\")"
   ]
  },
  {
   "cell_type": "markdown",
   "id": "164cf7b7",
   "metadata": {},
   "source": [
    "<span style=\"color:purple\">2) 引入拉普拉斯平滑后计算每个标签y对应的先验概率P(y)\n",
    "$$P(y)=\\frac{|D_y|+1}{|D|+N}$$\n",
    "    其中$D_y$为标签为y的样本集合；$|D_y|$为标签为y的集合的样本个数；D为所有样本集合；|D|为所有样本个数;N为标签取值的个数\n",
    "\n",
    "</span>"
   ]
  },
  {
   "cell_type": "code",
   "execution_count": 120,
   "id": "f34423cf",
   "metadata": {},
   "outputs": [
    {
     "name": "stdout",
     "output_type": "stream",
     "text": [
      "引入拉普拉斯平滑 标签值和对应的先验概率\n",
      "['e' 'p']\n",
      "[0.5896414342629482, 0.4103585657370518]\n"
     ]
    }
   ],
   "source": [
    "# 计算先验概率\n",
    "P = []\n",
    "for label in unique_train_labels:\n",
    "    D_y_1 = label_counter[label] + 1\n",
    "    D_N = train_data.shape[0] + len(list(label_counter))\n",
    "    P.append(D_y_1 / D_N)\n",
    "print(\"引入拉普拉斯平滑 标签值和对应的先验概率\")\n",
    "print(unique_train_labels)\n",
    "print(P)\n",
    "prior_prob_e2 = P[0]\n",
    "prior_prob_p2 = P[1]\n",
    "# print(prior_prob_e2)\n",
    "# print(prior_prob_p2)"
   ]
  },
  {
   "cell_type": "markdown",
   "id": "5fa57e6f",
   "metadata": {},
   "source": [
    "<span style=\"color:purple\">3) 计算数据集中的每个特征的非重复特征值$x_i$对应标签y的条件概率$P(x_i│y)$,\n",
    "    $$P(x_i│y)=\\frac{|D_{x_i,y}|+1}{|D_y|+N_i}$$\n",
    "$D_{x_i,y}$为标签为$y$，特征为$x_i$的样本集合；$|D_{x_i,y}|$为该样本个数;$N_i$为第$i$个特征取值的个数\n",
    "</span>"
   ]
  },
  {
   "cell_type": "code",
   "execution_count": 121,
   "id": "aa1d83cd",
   "metadata": {},
   "outputs": [
    {
     "name": "stdout",
     "output_type": "stream",
     "text": [
      "[['s', 'y', 'f', 'x', 'b', 'k', 'c'], ['n', 'y', 'w', 'g', 's', 'f'], ['t', 'f', 'w', 'n', 'p', 'e', 'g', 'y', 'b', 'r', 'c', 'u'], ['p', 'a', 'l', 'n', 't', 'f'], ['f', 'y', 'n', 's'], ['n', 'b', 'c', 'w'], ['k', 'n', 'g', 'p', 'w', 'h', 'b'], ['e', 't', 'w', 'p', 'b', 'g', 'h', 'r'], ['p', 'e', 'o', 't'], ['k', 'n', 'u', 'p', 'e', 'l', 'f'], ['s', 'n', 'a', 'v', 'y', 'h', 'w', 'r'], ['u', 'g', 'm', 'd', 'p', 'v', 's', 'c', 'y'], ['x', 'b', 's', 'f', 'u', 'd', 'g', 'l', 'p', 'm', 'w']]\n",
      "{0: {'s': 0.06132075471698113, 'y': 0.11320754716981132, 'f': 0.35377358490566035, 'x': 0.41509433962264153, 'b': 0.04245283018867924, 'k': 0.0047169811320754715, 'c': 0.009433962264150943}, 1: {'n': 0.06635071090047394, 'y': 0.4928909952606635, 'w': 0.10900473933649289, 'g': 0.004739336492890996, 's': 0.26540284360189575, 'f': 0.061611374407582936}, 2: {'t': 0.16589861751152074, 'f': 0.013824884792626729, 'w': 0.1382488479262673, 'n': 0.17050691244239632, 'p': 0.03225806451612903, 'e': 0.04608294930875576, 'g': 0.12442396313364056, 'y': 0.2073732718894009, 'b': 0.08755760368663594, 'r': 0.004608294930875576, 'c': 0.004608294930875576, 'u': 0.004608294930875576}, 3: {'p': 0.14691943127962084, 'a': 0.023696682464454975, 'l': 0.009478672985781991, 'n': 0.014218009478672985, 't': 0.3175355450236967, 'f': 0.4881516587677725}, 4: {'f': 0.722488038277512, 'y': 0.11961722488038277, 'n': 0.10047846889952153, 's': 0.05741626794258373}, 5: {'n': 0.16267942583732056, 'b': 0.023923444976076555, 'c': 0.8038277511961722, 'w': 0.009569377990430622}, 6: {'k': 0.07547169811320754, 'n': 0.2688679245283019, 'g': 0.009433962264150943, 'p': 0.03773584905660377, 'w': 0.0330188679245283, 'h': 0.0047169811320754715, 'b': 0.5707547169811321}, 7: {'e': 0.17370892018779344, 't': 0.009389671361502348, 'w': 0.11737089201877934, 'p': 0.18779342723004694, 'b': 0.2112676056338028, 'g': 0.13145539906103287, 'h': 0.1267605633802817, 'r': 0.04225352112676056}, 8: {'p': 0.18181818181818182, 'e': 0.004784688995215311, 'o': 0.7320574162679426, 't': 0.08133971291866028}, 9: {'k': 0.08490566037735849, 'n': 0.09433962264150944, 'u': 0.009433962264150943, 'p': 0.3160377358490566, 'e': 0.22641509433962265, 'l': 0.2641509433962264, 'f': 0.0047169811320754715}, 10: {'s': 0.06572769953051644, 'n': 0.018779342723004695, 'a': 0.004694835680751174, 'v': 0.10328638497652583, 'y': 0.004694835680751174, 'h': 0.49295774647887325, 'w': 0.2300469483568075, 'r': 0.07981220657276995}, 11: {'u': 0.09345794392523364, 'g': 0.07009345794392523, 'm': 0.018691588785046728, 'd': 0.009345794392523364, 'p': 0.004672897196261682, 'v': 0.5794392523364486, 's': 0.08878504672897196, 'c': 0.009345794392523364, 'y': 0.1261682242990654}, 12: {'x': 0.14351851851851852, 'b': 0.018518518518518517, 's': 0.013888888888888888, 'f': 0.013888888888888888, 'u': 0.09722222222222222, 'd': 0.16666666666666666, 'g': 0.25462962962962965, 'l': 0.06481481481481481, 'p': 0.1712962962962963, 'm': 0.05092592592592592, 'w': 0.004629629629629629}}\n",
      "{0: {'s': 0.28807947019867547, 'y': 0.3211920529801324, 'f': 0.23509933774834438, 'x': 0.07947019867549669, 'b': 0.0033112582781456954, 'k': 0.0695364238410596, 'c': 0.0033112582781456954}, 1: {'n': 0.12292358803986711, 'y': 0.45182724252491696, 'w': 0.2823920265780731, 'g': 0.0664451827242525, 's': 0.059800664451827246, 'f': 0.016611295681063124}, 2: {'t': 0.6058631921824105, 'f': 0.14332247557003258, 'w': 0.009771986970684038, 'n': 0.06514657980456026, 'p': 0.048859934853420196, 'e': 0.03908794788273615, 'g': 0.003257328990228013, 'y': 0.003257328990228013, 'b': 0.029315960912052116, 'r': 0.019543973941368076, 'c': 0.02280130293159609, 'u': 0.009771986970684038}, 3: {'p': 0.0033222591362126247, 'a': 0.292358803986711, 'l': 0.3289036544850498, 'n': 0.1461794019933555, 't': 0.15282392026578073, 'f': 0.07641196013289037}, 4: {'f': 0.7658862876254181, 'y': 0.0033444816053511705, 'n': 0.22742474916387959, 's': 0.0033444816053511705}, 5: {'n': 0.15719063545150502, 'b': 0.6120401337792643, 'c': 0.18394648829431437, 'w': 0.046822742474916385}, 6: {'k': 0.1357615894039735, 'n': 0.271523178807947, 'g': 0.1456953642384106, 'p': 0.08609271523178808, 'w': 0.1986754966887417, 'h': 0.009933774834437087, 'b': 0.152317880794702}, 7: {'e': 0.7029702970297029, 't': 0.13861386138613863, 'w': 0.1254125412541254, 'p': 0.009900990099009901, 'b': 0.0033003300330033004, 'g': 0.0033003300330033004, 'h': 0.013201320132013201, 'r': 0.0033003300330033004}, 8: {'p': 0.7023411371237458, 'e': 0.06688963210702341, 'o': 0.07692307692307693, 't': 0.15384615384615385}, 9: {'k': 0.3079470198675497, 'n': 0.4271523178807947, 'u': 0.029801324503311258, 'p': 0.0033112582781456954, 'e': 0.19536423841059603, 'l': 0.0033112582781456954, 'f': 0.033112582781456956}, 10: {'s': 0.3102310231023102, 'n': 0.19801980198019803, 'a': 0.036303630363036306, 'v': 0.10891089108910891, 'y': 0.11551155115511551, 'h': 0.033003300330033, 'w': 0.19471947194719472, 'r': 0.0033003300330033004}, 11: {'u': 0.08223684210526316, 'g': 0.34868421052631576, 'm': 0.19736842105263158, 'd': 0.0756578947368421, 'p': 0.0625, 'v': 0.05921052631578947, 's': 0.003289473684210526, 'c': 0.1513157894736842, 'y': 0.019736842105263157}, 12: {'x': 0.35294117647058826, 'b': 0.22549019607843138, 's': 0.03594771241830065, 'f': 0.1437908496732026, 'u': 0.0032679738562091504, 'd': 0.032679738562091505, 'g': 0.0032679738562091504, 'l': 0.0457516339869281, 'p': 0.0032679738562091504, 'm': 0.0032679738562091504, 'w': 0.1503267973856209}}\n"
     ]
    }
   ],
   "source": [
    "# 首先遍历数据集D中的每个特征，将每个特征的非重复值取出\n",
    "n = train_data.shape[1] - 1  # 属性个数\n",
    "m = train_data.shape[0]  # 样本个数\n",
    "label_loc = train_data.shape[1] - 1  # 定位标签的索引\n",
    "\n",
    "unique_features = []  # 存放每个属性的非重复值\n",
    "for i in range(n):  # l[i]表示第i个属性的非重复值\n",
    "    counter = Counter(train_data[:, i])\n",
    "    val = list(counter)\n",
    "    unique_features.append(val)\n",
    "print(unique_features)  # 打印查看数据集中每个特征的非重复值\n",
    "\n",
    "# 根据标签值将数据集D分为两个子数据集，分别包括所有标签值为p的样本和所有标签值为e的样本。\n",
    "\n",
    "train_data_e = train_data[train_data[:, label_loc] == \"e\"]\n",
    "train_data_p = train_data[train_data[:, label_loc] == \"p\"]\n",
    "\n",
    "# 现以标签为p的数据集Dp为例子，遍历Dp的每个特征，分别求出该特征每个特征值的条件概率。\n",
    "# 以特征cap-shape为例。Dp中cap-shape的非重复值集合为['b' 'c' 'f' 'k' 's' 'x' 'y']，计算条件概率P(cap-shape='b'|label='p'),P(cap-shape='c'|label='p'),...,P(cap-shape='y'|label='p')，\n",
    "# 计算条件概率时需要注意引入拉普拉斯平滑。\n",
    "# 上述对cap-shape特征操作完成后，按照同样的步骤对Dp中的剩余12个特征进行同样的操作\n",
    "cond_probabilities_p = {}  # 存储标记为p的条件概率结果\n",
    "for k in range(train_data_p.shape[1] - 1):\n",
    "    cond_probabilities_p[k] = {}  # 初始化 将对应每个属性索引处新建一个字典\n",
    "\n",
    "# 遍历子数据集的全部特征\n",
    "for j in range(train_data_p.shape[1] - 1):\n",
    "    # 遍历全部样本\n",
    "    feature_unique = unique_features[j]  # 获取每个属性的非重复值\n",
    "    for value in feature_unique:\n",
    "        # 对于每个属性 重新从全部样本中进行寻找\n",
    "        count_label = 0\n",
    "        for i in range(len(train_data_p)):\n",
    "            if train_data_p[i][j] == value:\n",
    "                count_label += 1\n",
    "        # 在对应属性列的位置 设置对应的字典k-v值 即 属性值-条件概率值\n",
    "        temple_dict = {}\n",
    "        temple_dict[value] = (count_label + 1) / (len(train_data_p) + len(feature_unique))\n",
    "        cond_probabilities_p[j].update(temple_dict)\n",
    "print(cond_probabilities_p)\n",
    "\n",
    "# 得到数据集Dp中条件概率集合后，对另一个子数据集进行同样的操作\n",
    "cond_probabilities_e = {}  # 存储标记为e的条件概率结果\n",
    "for k in range(train_data_e.shape[1] - 1):\n",
    "    cond_probabilities_e[k] = {}\n",
    "# 遍历子数据集的全部特征\n",
    "for j in range(train_data_e.shape[1] - 1):\n",
    "    # 遍历全部样本\n",
    "    feature_unique = unique_features[j]  # 获取每个属性的非重复值\n",
    "    for value in feature_unique:\n",
    "        # 对于每个属性 重新从全部样本中进行寻找\n",
    "        count_label = 0\n",
    "        for i in range(len(train_data_e)):\n",
    "            if train_data_e[i][j] == value:\n",
    "                count_label += 1\n",
    "        # 在对应属性列的位置 设置对应的字典k-v值 即 属性值-条件概率值\n",
    "        temple_dict = {}  # 创建的临时字典 存储当前属性列的属性的条件概率\n",
    "        temple_dict[value] = (count_label + 1) / (len(train_data_e) + len(feature_unique))\n",
    "        cond_probabilities_e[j].update(temple_dict)\n",
    "print(cond_probabilities_e)"
   ]
  },
  {
   "cell_type": "code",
   "execution_count": 122,
   "metadata": {},
   "outputs": [],
   "source": [
    "# 经过测试发现测试集中存在新的属性值 导致字典出现键值对不匹配的错误\n",
    "# 因此选择对该错误捕捉并进行相应处理\n",
    "def pro2(a, index):\n",
    "    # 初始化后验概率为之前计算的先验概率\n",
    "    post_pro = prior_prob_e2 if index == \"e\" else prior_prob_p2\n",
    "    try:\n",
    "        #  所给标记为p\n",
    "        if index == \"p\":\n",
    "            for i in range(len(a)):\n",
    "                # 乘以对应i索引属性列下的属性值a[i]的条件概率\n",
    "                post_pro *= cond_probabilities_p[i][a[i]]\n",
    "        else:  # 所给标记为e\n",
    "            for i in range(len(a)):\n",
    "                # 乘以对应i索引属性列下的属性值a[i]的条件概率\n",
    "                post_pro *= cond_probabilities_e[i][a[i]]\n",
    "    except KeyError:\n",
    "        # 测试集中出现新的属性值 选择是否将其条件概率置为0 即将整体的后验概率置为0\n",
    "        post_pro = 0\n",
    "        # print(\"出现训练集中未有的属性值:第{}列属性值{}\".format(i, a[i]))\n",
    "        pass\n",
    "    # 返回计算出的后验概率\n",
    "    return post_pro"
   ]
  },
  {
   "cell_type": "markdown",
   "id": "e9555a74",
   "metadata": {},
   "source": [
    "<span style=\"color:purple\">4) 对测试集中的每个样本a，利用上个步骤所编写的函数，分别求所有可能的标签对应的后验概率，后验概率更大的对应标签即为预测标签，最后与测试集本身标签进行比较计算出准确率</span>"
   ]
  },
  {
   "cell_type": "code",
   "execution_count": 123,
   "id": "99b0941e",
   "metadata": {},
   "outputs": [
    {
     "name": "stdout",
     "output_type": "stream",
     "text": [
      "100\n",
      "22\n",
      "准确率为: 70.51%\n"
     ]
    }
   ],
   "source": [
    "true_labels = test_data[:, -1]  # 测试集的真实标签\n",
    "pre_labels = []  # 预测的标签\n",
    "invalid_count = 0\n",
    "correct_count = 0\n",
    "# 遍历测试集中全部样本\n",
    "for i in range(test_data.shape[0]):\n",
    "    pro_e = pro2(test_data[i, :-1], \"e\")\n",
    "    pro_p = pro2(test_data[i, :-1], \"p\")\n",
    "    if pro_e == pro_p:\n",
    "        invalid_count += 1  # 统计无法判别的样本个数\n",
    "    else:\n",
    "        temple_label = \"e\" if pro_e > pro_p else \"p\"  # 通过后验概率的大小判断预测标签\n",
    "        if temple_label == true_labels[i]:\n",
    "            correct_count += 1\n",
    "    # pre_labels.append(temple_label)  # 添加预测的标签\n",
    "# 计算准确率\n",
    "# accuracy = np.mean(pre_labels == true_labels)\n",
    "print(len(true_labels))\n",
    "print(invalid_count)\n",
    "accuracy = correct_count / (len(true_labels) - invalid_count)\n",
    "print(\"准确率为: {:.2f}%\".format(accuracy * 100))"
   ]
  },
  {
   "cell_type": "code",
   "execution_count": 124,
   "metadata": {},
   "outputs": [],
   "source": [
    "# 忽略未知特征值\n",
    "def pro3(a, index):\n",
    "    # 初始化后验概率为之前计算的先验概率\n",
    "    post_pro = prior_prob_e2 if index == \"e\" else prior_prob_p2\n",
    "    for i in range(len(a)):\n",
    "        try:\n",
    "            if index == \"p\":\n",
    "                # print(f\"处理特征 {i} 的值 {a[i]}\")  # 打印当前处理的特征\n",
    "                # 乘以对应i索引属性列下的属性值a[i]的条件概率\n",
    "                post_pro *= cond_probabilities_p[i][a[i]]\n",
    "            else:\n",
    "                # print(f\"处理特征 {i} 的值 {a[i]}\")  # 打印当前处理的特征\n",
    "                # 乘以对应i索引属性列下的属性值a[i]的条件概率\n",
    "                post_pro *= cond_probabilities_e[i][a[i]]\n",
    "        except KeyError:\n",
    "            # print(f\"出现未知特征值: 第{i}列，值 {a[i]}\")  # 打印异常信息\n",
    "            # 直接忽略未知的特征值\n",
    "            pass\n",
    "    return post_pro"
   ]
  },
  {
   "cell_type": "code",
   "execution_count": 125,
   "metadata": {},
   "outputs": [],
   "source": [
    "# 后验概率置为0\n",
    "def pro4(a, index):\n",
    "    # 初始化后验概率为之前计算的先验概率\n",
    "    post_pro = prior_prob_e2 if index == \"e\" else prior_prob_p2\n",
    "    for i in range(len(a)):\n",
    "        try:\n",
    "            if index == \"p\":\n",
    "                # print(f\"处理特征 {i} 的值 {a[i]}\")  # 打印当前处理的特征\n",
    "                # 乘以对应i索引属性列下的属性值a[i]的条件概率\n",
    "                post_pro *= cond_probabilities_p[i][a[i]]\n",
    "            else:\n",
    "                # print(f\"处理特征 {i} 的值 {a[i]}\")  # 打印当前处理的特征\n",
    "                # 乘以对应i索引属性列下的属性值a[i]的条件概率\n",
    "                post_pro *= cond_probabilities_e[i][a[i]]\n",
    "        except KeyError:\n",
    "            print(f\"出现未知特征值: 第{i}列，值 {a[i]}\")  # 打印异常信息\n",
    "            post_pro = 0  # 将后验概率置为0\n",
    "    return post_pro"
   ]
  },
  {
   "cell_type": "code",
   "execution_count": 126,
   "metadata": {},
   "outputs": [
    {
     "name": "stdout",
     "output_type": "stream",
     "text": [
      "引入拉普拉斯平滑后\n",
      "\n",
      "后验概率置为0\n",
      "出现未知特征值: 第11列，值 n\n",
      "出现未知特征值: 第11列，值 n\n",
      "出现未知特征值: 第7列，值 n\n",
      "出现未知特征值: 第10列，值 b\n",
      "出现未知特征值: 第7列，值 n\n",
      "出现未知特征值: 第10列，值 b\n",
      "出现未知特征值: 第11列，值 n\n",
      "出现未知特征值: 第11列，值 n\n",
      "出现未知特征值: 第11列，值 n\n",
      "出现未知特征值: 第11列，值 n\n",
      "出现未知特征值: 第4列，值 m\n",
      "出现未知特征值: 第7列，值 y\n",
      "出现未知特征值: 第8列，值 n\n",
      "出现未知特征值: 第4列，值 m\n",
      "出现未知特征值: 第7列，值 y\n",
      "出现未知特征值: 第8列，值 n\n",
      "出现未知特征值: 第7列，值 y\n",
      "出现未知特征值: 第7列，值 y\n",
      "出现未知特征值: 第11列，值 n\n",
      "出现未知特征值: 第11列，值 n\n",
      "出现未知特征值: 第7列，值 n\n",
      "出现未知特征值: 第10列，值 b\n",
      "出现未知特征值: 第7列，值 n\n",
      "出现未知特征值: 第10列，值 b\n",
      "出现未知特征值: 第7列，值 y\n",
      "出现未知特征值: 第7列，值 y\n",
      "出现未知特征值: 第7列，值 y\n",
      "出现未知特征值: 第10列，值 b\n",
      "出现未知特征值: 第7列，值 y\n",
      "出现未知特征值: 第10列，值 b\n",
      "出现未知特征值: 第7列，值 n\n",
      "出现未知特征值: 第7列，值 n\n",
      "出现未知特征值: 第11列，值 n\n",
      "出现未知特征值: 第11列，值 n\n",
      "出现未知特征值: 第11列，值 n\n",
      "出现未知特征值: 第11列，值 n\n",
      "出现未知特征值: 第7列，值 n\n",
      "出现未知特征值: 第10列，值 b\n",
      "出现未知特征值: 第7列，值 n\n",
      "出现未知特征值: 第10列，值 b\n",
      "出现未知特征值: 第11列，值 n\n",
      "出现未知特征值: 第11列，值 n\n",
      "出现未知特征值: 第11列，值 n\n",
      "出现未知特征值: 第11列，值 n\n",
      "出现未知特征值: 第11列，值 n\n",
      "出现未知特征值: 第11列，值 n\n",
      "出现未知特征值: 第11列，值 n\n",
      "出现未知特征值: 第11列，值 n\n",
      "出现未知特征值: 第11列，值 n\n",
      "出现未知特征值: 第11列，值 n\n",
      "出现未知特征值: 第7列，值 y\n",
      "出现未知特征值: 第7列，值 y\n",
      "出现未知特征值: 第7列，值 n\n",
      "出现未知特征值: 第10列，值 o\n",
      "出现未知特征值: 第7列，值 n\n",
      "出现未知特征值: 第10列，值 o\n",
      "出现未知特征值: 第11列，值 n\n",
      "出现未知特征值: 第11列，值 n\n",
      "准确率为: 70.51%\n",
      "\n",
      "忽略未知特征值\n",
      "准确率为: 58.00%\n"
     ]
    }
   ],
   "source": [
    "test_unique_features = []  # 存放每个属性的非重复值\n",
    "for i in range(n):  # l[i]表示第i个属性的非重复值\n",
    "    counter = Counter(test_data[:, i])\n",
    "    val = list(counter)\n",
    "    test_unique_features.append(val)\n",
    "\n",
    "# 平滑处理\n",
    "def pro5(a, index):\n",
    "\n",
    "    # 初始化后验概率为之前计算的先验概率\n",
    "\n",
    "    post_pro = prior_prob_e2 if index == \"e\" else prior_prob_p2\n",
    "\n",
    "    for i in range(len(a)):\n",
    "\n",
    "        try:\n",
    "\n",
    "            if index == \"p\":\n",
    "\n",
    "                # print(f\"处理特征 {i} 的值 {a[i]}\")  # 打印当前处理的特征\n",
    "\n",
    "                # 乘以对应i索引属性列下的属性值a[i]的条件概率\n",
    "\n",
    "                post_pro *= cond_probabilities_p[i][a[i]]\n",
    "\n",
    "            else:\n",
    "\n",
    "                # print(f\"处理特征 {i} 的值 {a[i]}\")  # 打印当前处理的特征\n",
    "\n",
    "                # 乘以对应i索引属性列下的属性值a[i]的条件概率\n",
    "\n",
    "                post_pro *= cond_probabilities_e[i][a[i]]\n",
    "\n",
    "        except KeyError:\n",
    "\n",
    "            # print(f\"出现未知特征值: 第{i}列，值 {a[i]}\")  # 打印异常信息\n",
    "\n",
    "            post_pro *= 1 / len(unique_features[i])  # 将条件概率设置为测试集单一属性的概率\n",
    "    return post_pro\n",
    "\n",
    "\n",
    "\n",
    "print(\"引入拉普拉斯平滑后\")\n",
    "print()\n",
    "\n",
    "print(\"后验概率置为0\")\n",
    "\n",
    "test_function(pro4)\n",
    "print()\n",
    "\n",
    "print(\"忽略未知特征值\")\n",
    "\n",
    "test_function(pro3)"
   ]
  },
  {
   "cell_type": "markdown",
   "id": "0f6f62e5",
   "metadata": {},
   "source": [
    "**<font color = blue size=4>第二部分:作业提交</font>**"
   ]
  },
  {
   "cell_type": "markdown",
   "id": "e5e1b059",
   "metadata": {},
   "source": [
    "一、实验课下课前提交完成代码，如果下课前未完成，请将已经完成的部分进行提交，未完成的部分于之后的实验报告中进行补充  \n",
    "要求:  \n",
    "1)文件格式为：学号-姓名.ipynb  \n",
    "2)【不要】提交文件夹、压缩包、数据集等无关文件，只需提交单个ipynb文件即可，如果交错请到讲台前联系助教，删掉之前的错误版本后再进行提交"
   ]
  },
  {
   "cell_type": "markdown",
   "id": "8a115318",
   "metadata": {},
   "source": [
    "二、实验报告截止日期： 【11月17日 14:20】\n",
    "要求：  \n",
    "1)文件格式为：学号-姓名.pdf  \n",
    "2)【不要】提交文件夹、压缩包、代码文件、数据集等任何与实验报告无关的文件，只需要提交单个pdf文件即可  \n",
    "3)文件命名时不需要额外添加“实验几”等额外信息，按照格式提交  \n",
    "4)每周的实验报告提交地址会变化，且有时间限制，提交时间为下周的实验课开始时，请注意及时提交。"
   ]
  },
  {
   "cell_type": "markdown",
   "id": "22a2724b",
   "metadata": {},
   "source": [
    "实验九(贝叶斯分类)的实验报告上交地址:https://send2me.cn/ufVNphux/T9yuatQDc00TVw  "
   ]
  },
  {
   "cell_type": "markdown",
   "id": "08f1e971",
   "metadata": {},
   "source": [
    "三、课堂课件获取地址:https://www.jianguoyun.com/p/DRLiP2oQp5WhChjB86YFIAA  \n",
    "实验内容获取地址:https://www.jianguoyun.com/p/DbLessAQp5WhChjD86YFIAA"
   ]
  }
 ],
 "metadata": {
  "kernelspec": {
   "display_name": "Python 3",
   "language": "python",
   "name": "python3"
  },
  "language_info": {
   "codemirror_mode": {
    "name": "ipython",
    "version": 3
   },
   "file_extension": ".py",
   "mimetype": "text/x-python",
   "name": "python",
   "nbconvert_exporter": "python",
   "pygments_lexer": "ipython3",
   "version": "3.9.13"
  }
 },
 "nbformat": 4,
 "nbformat_minor": 5
}
